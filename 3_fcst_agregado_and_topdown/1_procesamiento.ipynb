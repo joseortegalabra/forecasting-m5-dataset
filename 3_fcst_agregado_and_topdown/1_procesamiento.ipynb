{
 "cells": [
  {
   "cell_type": "markdown",
   "id": "57e242f7-f5c0-4bba-89db-7de4b39bb587",
   "metadata": {},
   "source": [
    "# Resampling data\n",
    "Para hacer este forecast a nivel departamento y luego desagregar a nivel id que mantenga que la suma de forecast id sea igual a forecast departamento se debe hacer un procesamiento de los datos y agregarlo a nivel departamento"
   ]
  },
  {
   "cell_type": "code",
   "execution_count": 1,
   "id": "ca574ea3-f75d-4601-8aec-5c2a647343c6",
   "metadata": {},
   "outputs": [],
   "source": [
    "import pandas as pd\n",
    "import pickle\n",
    "import numpy as np"
   ]
  },
  {
   "cell_type": "code",
   "execution_count": 2,
   "id": "13e14d8e-2783-4cbb-b5b0-57003dd731b1",
   "metadata": {},
   "outputs": [
    {
     "name": "stdout",
     "output_type": "stream",
     "text": [
      "root path:  /Users/joseortega/Documents/GitHub/forecasting-m5-dataset\n"
     ]
    }
   ],
   "source": [
    "import os\n",
    "# set path root of repo\n",
    "actual_path = os.path.abspath(os.getcwd())\n",
    "list_root_path = actual_path.split('/')[:-1]\n",
    "root_path = '/'.join(list_root_path)\n",
    "os.chdir(root_path)\n",
    "print('root path: ', root_path)"
   ]
  },
  {
   "cell_type": "code",
   "execution_count": null,
   "id": "76b5d7e8-eceb-4581-92b2-6a61cbe4fb38",
   "metadata": {},
   "outputs": [],
   "source": []
  },
  {
   "cell_type": "markdown",
   "id": "afa8f988-8fba-46d9-b894-0bd0d4a6a810",
   "metadata": {},
   "source": [
    "### 1. Read raw files dtype corrrect"
   ]
  },
  {
   "cell_type": "code",
   "execution_count": 7,
   "id": "3ee06924-9174-46c2-b244-6ca9dbdf1afb",
   "metadata": {},
   "outputs": [],
   "source": [
    "folder_data = 'data/data_input_dtype/'\n",
    "df_cal = pd.read_pickle(folder_data + 'calendar.pkl')\n",
    "df_eval = pd.read_pickle(folder_data + 'sales_train_evaluation.pkl')\n",
    "df_price = pd.read_pickle(folder_data + 'sell_prices.pkl')\n",
    "df_sample_output = pd.read_pickle(folder_data + 'sample_submission.pkl')"
   ]
  },
  {
   "cell_type": "code",
   "execution_count": null,
   "id": "97095580-8b62-49d1-8c23-77fb0edf5338",
   "metadata": {},
   "outputs": [],
   "source": []
  },
  {
   "cell_type": "code",
   "execution_count": null,
   "id": "06b6987b-9e5f-4523-96e6-b844014f52a5",
   "metadata": {},
   "outputs": [],
   "source": []
  },
  {
   "cell_type": "code",
   "execution_count": null,
   "id": "9eeb5234-a320-4cf5-83b3-ff15b2365bf7",
   "metadata": {},
   "outputs": [],
   "source": []
  },
  {
   "cell_type": "code",
   "execution_count": null,
   "id": "3e11a067-119a-41a5-9afc-8f349a3187ff",
   "metadata": {},
   "outputs": [],
   "source": []
  },
  {
   "cell_type": "code",
   "execution_count": null,
   "id": "5c303ba8-50c2-42b6-bcca-e81c9817f2ec",
   "metadata": {},
   "outputs": [],
   "source": []
  },
  {
   "cell_type": "code",
   "execution_count": null,
   "id": "a59b6a9c-9d10-4d6e-a4a2-8874fce48110",
   "metadata": {},
   "outputs": [],
   "source": []
  },
  {
   "cell_type": "code",
   "execution_count": null,
   "id": "cba68941-9bad-4d5e-9cdc-fce787a87ee0",
   "metadata": {},
   "outputs": [],
   "source": []
  },
  {
   "cell_type": "code",
   "execution_count": null,
   "id": "f0fe5a5d-7ee9-4e24-a69e-231967fbb359",
   "metadata": {},
   "outputs": [],
   "source": []
  }
 ],
 "metadata": {
  "kernelspec": {
   "display_name": "Python 3 (ipykernel)",
   "language": "python",
   "name": "python3"
  },
  "language_info": {
   "codemirror_mode": {
    "name": "ipython",
    "version": 3
   },
   "file_extension": ".py",
   "mimetype": "text/x-python",
   "name": "python",
   "nbconvert_exporter": "python",
   "pygments_lexer": "ipython3",
   "version": "3.11.7"
  }
 },
 "nbformat": 4,
 "nbformat_minor": 5
}

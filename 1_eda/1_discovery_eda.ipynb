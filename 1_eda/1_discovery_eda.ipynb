{
 "cells": [
  {
   "cell_type": "markdown",
   "id": "bd214b7a-a178-474f-80e7-69933a08e024",
   "metadata": {},
   "source": [
    "# DISCOVERY EDA\n",
    "EDA SIMPLE para entender los datos que se están pasando\n",
    "NO se hacen mayores análisis, solo se analizan qué features hay en los datos, frecuencia, nivel de agregación, nulos, etc"
   ]
  },
  {
   "cell_type": "code",
   "execution_count": null,
   "id": "6867fefb-daf5-498f-9f11-a1eac617074c",
   "metadata": {},
   "outputs": [],
   "source": []
  },
  {
   "cell_type": "code",
   "execution_count": 1,
   "id": "9498d29c-d776-4d75-b3e9-7cb8c2235698",
   "metadata": {},
   "outputs": [],
   "source": [
    "import numpy as np\n",
    "import pandas as pd\n",
    "import matplotlib.pyplot as plt"
   ]
  },
  {
   "cell_type": "code",
   "execution_count": 2,
   "id": "39752816-8c63-4f9e-a3ce-2f5ce0cc5044",
   "metadata": {},
   "outputs": [
    {
     "name": "stdout",
     "output_type": "stream",
     "text": [
      "root path:  /Users/joseortega/Documents/GitHub/forecasting-m5-dataset\n"
     ]
    }
   ],
   "source": [
    "import os\n",
    "# set path root of repo\n",
    "actual_path = os.path.abspath(os.getcwd())\n",
    "list_root_path = actual_path.split('/')[:-1]\n",
    "root_path = '/'.join(list_root_path)\n",
    "os.chdir(root_path)\n",
    "print('root path: ', root_path)"
   ]
  },
  {
   "cell_type": "markdown",
   "id": "83ab2d18-eb76-4eb5-b6a1-e161b7053b4d",
   "metadata": {},
   "source": [
    "### 1. Read raw files"
   ]
  },
  {
   "cell_type": "code",
   "execution_count": 3,
   "id": "c942f87e-f7f0-441e-9d81-5774a4c3861d",
   "metadata": {},
   "outputs": [],
   "source": [
    "folder_data = 'data/data_input_raw/'\n",
    "df_cal = pd.read_csv(folder_data + 'calendar.csv')\n",
    "df_eval = pd.read_csv(folder_data + 'sales_train_evaluation.csv')\n",
    "df_price = pd.read_csv(folder_data + 'sell_prices.csv')\n",
    "df_sample_output = pd.read_csv(folder_data + 'sample_submission.csv')\n",
    "\n",
    "df_validation = pd.read_csv(folder_data + 'sales_train_validation.csv')"
   ]
  },
  {
   "cell_type": "code",
   "execution_count": null,
   "id": "c1c33072-db97-441b-a593-961724475333",
   "metadata": {},
   "outputs": [],
   "source": []
  },
  {
   "cell_type": "markdown",
   "id": "fb847bba-0ef6-42a2-9fb0-58b011cc054c",
   "metadata": {},
   "source": [
    "### 2. Discovery calender\n",
    "Dataframe calendario"
   ]
  },
  {
   "cell_type": "code",
   "execution_count": 4,
   "id": "1ed836a6-abec-4804-8c26-32fe7c5f6d66",
   "metadata": {},
   "outputs": [
    {
     "data": {
      "text/html": [
       "<div>\n",
       "<style scoped>\n",
       "    .dataframe tbody tr th:only-of-type {\n",
       "        vertical-align: middle;\n",
       "    }\n",
       "\n",
       "    .dataframe tbody tr th {\n",
       "        vertical-align: top;\n",
       "    }\n",
       "\n",
       "    .dataframe thead th {\n",
       "        text-align: right;\n",
       "    }\n",
       "</style>\n",
       "<table border=\"1\" class=\"dataframe\">\n",
       "  <thead>\n",
       "    <tr style=\"text-align: right;\">\n",
       "      <th></th>\n",
       "      <th>date</th>\n",
       "      <th>wm_yr_wk</th>\n",
       "      <th>weekday</th>\n",
       "      <th>wday</th>\n",
       "      <th>month</th>\n",
       "      <th>year</th>\n",
       "      <th>d</th>\n",
       "      <th>event_name_1</th>\n",
       "      <th>event_type_1</th>\n",
       "      <th>event_name_2</th>\n",
       "      <th>event_type_2</th>\n",
       "      <th>snap_CA</th>\n",
       "      <th>snap_TX</th>\n",
       "      <th>snap_WI</th>\n",
       "    </tr>\n",
       "  </thead>\n",
       "  <tbody>\n",
       "    <tr>\n",
       "      <th>0</th>\n",
       "      <td>2011-01-29</td>\n",
       "      <td>11101</td>\n",
       "      <td>Saturday</td>\n",
       "      <td>1</td>\n",
       "      <td>1</td>\n",
       "      <td>2011</td>\n",
       "      <td>d_1</td>\n",
       "      <td>NaN</td>\n",
       "      <td>NaN</td>\n",
       "      <td>NaN</td>\n",
       "      <td>NaN</td>\n",
       "      <td>0</td>\n",
       "      <td>0</td>\n",
       "      <td>0</td>\n",
       "    </tr>\n",
       "    <tr>\n",
       "      <th>1</th>\n",
       "      <td>2011-01-30</td>\n",
       "      <td>11101</td>\n",
       "      <td>Sunday</td>\n",
       "      <td>2</td>\n",
       "      <td>1</td>\n",
       "      <td>2011</td>\n",
       "      <td>d_2</td>\n",
       "      <td>NaN</td>\n",
       "      <td>NaN</td>\n",
       "      <td>NaN</td>\n",
       "      <td>NaN</td>\n",
       "      <td>0</td>\n",
       "      <td>0</td>\n",
       "      <td>0</td>\n",
       "    </tr>\n",
       "    <tr>\n",
       "      <th>2</th>\n",
       "      <td>2011-01-31</td>\n",
       "      <td>11101</td>\n",
       "      <td>Monday</td>\n",
       "      <td>3</td>\n",
       "      <td>1</td>\n",
       "      <td>2011</td>\n",
       "      <td>d_3</td>\n",
       "      <td>NaN</td>\n",
       "      <td>NaN</td>\n",
       "      <td>NaN</td>\n",
       "      <td>NaN</td>\n",
       "      <td>0</td>\n",
       "      <td>0</td>\n",
       "      <td>0</td>\n",
       "    </tr>\n",
       "    <tr>\n",
       "      <th>3</th>\n",
       "      <td>2011-02-01</td>\n",
       "      <td>11101</td>\n",
       "      <td>Tuesday</td>\n",
       "      <td>4</td>\n",
       "      <td>2</td>\n",
       "      <td>2011</td>\n",
       "      <td>d_4</td>\n",
       "      <td>NaN</td>\n",
       "      <td>NaN</td>\n",
       "      <td>NaN</td>\n",
       "      <td>NaN</td>\n",
       "      <td>1</td>\n",
       "      <td>1</td>\n",
       "      <td>0</td>\n",
       "    </tr>\n",
       "    <tr>\n",
       "      <th>4</th>\n",
       "      <td>2011-02-02</td>\n",
       "      <td>11101</td>\n",
       "      <td>Wednesday</td>\n",
       "      <td>5</td>\n",
       "      <td>2</td>\n",
       "      <td>2011</td>\n",
       "      <td>d_5</td>\n",
       "      <td>NaN</td>\n",
       "      <td>NaN</td>\n",
       "      <td>NaN</td>\n",
       "      <td>NaN</td>\n",
       "      <td>1</td>\n",
       "      <td>0</td>\n",
       "      <td>1</td>\n",
       "    </tr>\n",
       "    <tr>\n",
       "      <th>5</th>\n",
       "      <td>2011-02-03</td>\n",
       "      <td>11101</td>\n",
       "      <td>Thursday</td>\n",
       "      <td>6</td>\n",
       "      <td>2</td>\n",
       "      <td>2011</td>\n",
       "      <td>d_6</td>\n",
       "      <td>NaN</td>\n",
       "      <td>NaN</td>\n",
       "      <td>NaN</td>\n",
       "      <td>NaN</td>\n",
       "      <td>1</td>\n",
       "      <td>1</td>\n",
       "      <td>1</td>\n",
       "    </tr>\n",
       "    <tr>\n",
       "      <th>6</th>\n",
       "      <td>2011-02-04</td>\n",
       "      <td>11101</td>\n",
       "      <td>Friday</td>\n",
       "      <td>7</td>\n",
       "      <td>2</td>\n",
       "      <td>2011</td>\n",
       "      <td>d_7</td>\n",
       "      <td>NaN</td>\n",
       "      <td>NaN</td>\n",
       "      <td>NaN</td>\n",
       "      <td>NaN</td>\n",
       "      <td>1</td>\n",
       "      <td>0</td>\n",
       "      <td>0</td>\n",
       "    </tr>\n",
       "    <tr>\n",
       "      <th>7</th>\n",
       "      <td>2011-02-05</td>\n",
       "      <td>11102</td>\n",
       "      <td>Saturday</td>\n",
       "      <td>1</td>\n",
       "      <td>2</td>\n",
       "      <td>2011</td>\n",
       "      <td>d_8</td>\n",
       "      <td>NaN</td>\n",
       "      <td>NaN</td>\n",
       "      <td>NaN</td>\n",
       "      <td>NaN</td>\n",
       "      <td>1</td>\n",
       "      <td>1</td>\n",
       "      <td>1</td>\n",
       "    </tr>\n",
       "    <tr>\n",
       "      <th>8</th>\n",
       "      <td>2011-02-06</td>\n",
       "      <td>11102</td>\n",
       "      <td>Sunday</td>\n",
       "      <td>2</td>\n",
       "      <td>2</td>\n",
       "      <td>2011</td>\n",
       "      <td>d_9</td>\n",
       "      <td>SuperBowl</td>\n",
       "      <td>Sporting</td>\n",
       "      <td>NaN</td>\n",
       "      <td>NaN</td>\n",
       "      <td>1</td>\n",
       "      <td>1</td>\n",
       "      <td>1</td>\n",
       "    </tr>\n",
       "    <tr>\n",
       "      <th>9</th>\n",
       "      <td>2011-02-07</td>\n",
       "      <td>11102</td>\n",
       "      <td>Monday</td>\n",
       "      <td>3</td>\n",
       "      <td>2</td>\n",
       "      <td>2011</td>\n",
       "      <td>d_10</td>\n",
       "      <td>NaN</td>\n",
       "      <td>NaN</td>\n",
       "      <td>NaN</td>\n",
       "      <td>NaN</td>\n",
       "      <td>1</td>\n",
       "      <td>1</td>\n",
       "      <td>0</td>\n",
       "    </tr>\n",
       "  </tbody>\n",
       "</table>\n",
       "</div>"
      ],
      "text/plain": [
       "         date  wm_yr_wk    weekday  wday  month  year     d event_name_1  \\\n",
       "0  2011-01-29     11101   Saturday     1      1  2011   d_1          NaN   \n",
       "1  2011-01-30     11101     Sunday     2      1  2011   d_2          NaN   \n",
       "2  2011-01-31     11101     Monday     3      1  2011   d_3          NaN   \n",
       "3  2011-02-01     11101    Tuesday     4      2  2011   d_4          NaN   \n",
       "4  2011-02-02     11101  Wednesday     5      2  2011   d_5          NaN   \n",
       "5  2011-02-03     11101   Thursday     6      2  2011   d_6          NaN   \n",
       "6  2011-02-04     11101     Friday     7      2  2011   d_7          NaN   \n",
       "7  2011-02-05     11102   Saturday     1      2  2011   d_8          NaN   \n",
       "8  2011-02-06     11102     Sunday     2      2  2011   d_9    SuperBowl   \n",
       "9  2011-02-07     11102     Monday     3      2  2011  d_10          NaN   \n",
       "\n",
       "  event_type_1 event_name_2 event_type_2  snap_CA  snap_TX  snap_WI  \n",
       "0          NaN          NaN          NaN        0        0        0  \n",
       "1          NaN          NaN          NaN        0        0        0  \n",
       "2          NaN          NaN          NaN        0        0        0  \n",
       "3          NaN          NaN          NaN        1        1        0  \n",
       "4          NaN          NaN          NaN        1        0        1  \n",
       "5          NaN          NaN          NaN        1        1        1  \n",
       "6          NaN          NaN          NaN        1        0        0  \n",
       "7          NaN          NaN          NaN        1        1        1  \n",
       "8     Sporting          NaN          NaN        1        1        1  \n",
       "9          NaN          NaN          NaN        1        1        0  "
      ]
     },
     "execution_count": 4,
     "metadata": {},
     "output_type": "execute_result"
    }
   ],
   "source": [
    "df_cal.head(10)"
   ]
  },
  {
   "cell_type": "code",
   "execution_count": 5,
   "id": "35a52b81-452a-4bed-b666-cbf7d4ce8f2b",
   "metadata": {},
   "outputs": [
    {
     "data": {
      "text/html": [
       "<div>\n",
       "<style scoped>\n",
       "    .dataframe tbody tr th:only-of-type {\n",
       "        vertical-align: middle;\n",
       "    }\n",
       "\n",
       "    .dataframe tbody tr th {\n",
       "        vertical-align: top;\n",
       "    }\n",
       "\n",
       "    .dataframe thead th {\n",
       "        text-align: right;\n",
       "    }\n",
       "</style>\n",
       "<table border=\"1\" class=\"dataframe\">\n",
       "  <thead>\n",
       "    <tr style=\"text-align: right;\">\n",
       "      <th></th>\n",
       "      <th>date</th>\n",
       "      <th>wm_yr_wk</th>\n",
       "      <th>weekday</th>\n",
       "      <th>wday</th>\n",
       "      <th>month</th>\n",
       "      <th>year</th>\n",
       "      <th>d</th>\n",
       "      <th>event_name_1</th>\n",
       "      <th>event_type_1</th>\n",
       "      <th>event_name_2</th>\n",
       "      <th>event_type_2</th>\n",
       "      <th>snap_CA</th>\n",
       "      <th>snap_TX</th>\n",
       "      <th>snap_WI</th>\n",
       "    </tr>\n",
       "  </thead>\n",
       "  <tbody>\n",
       "    <tr>\n",
       "      <th>1964</th>\n",
       "      <td>2016-06-15</td>\n",
       "      <td>11620</td>\n",
       "      <td>Wednesday</td>\n",
       "      <td>5</td>\n",
       "      <td>6</td>\n",
       "      <td>2016</td>\n",
       "      <td>d_1965</td>\n",
       "      <td>NaN</td>\n",
       "      <td>NaN</td>\n",
       "      <td>NaN</td>\n",
       "      <td>NaN</td>\n",
       "      <td>0</td>\n",
       "      <td>1</td>\n",
       "      <td>1</td>\n",
       "    </tr>\n",
       "    <tr>\n",
       "      <th>1965</th>\n",
       "      <td>2016-06-16</td>\n",
       "      <td>11620</td>\n",
       "      <td>Thursday</td>\n",
       "      <td>6</td>\n",
       "      <td>6</td>\n",
       "      <td>2016</td>\n",
       "      <td>d_1966</td>\n",
       "      <td>NaN</td>\n",
       "      <td>NaN</td>\n",
       "      <td>NaN</td>\n",
       "      <td>NaN</td>\n",
       "      <td>0</td>\n",
       "      <td>0</td>\n",
       "      <td>0</td>\n",
       "    </tr>\n",
       "    <tr>\n",
       "      <th>1966</th>\n",
       "      <td>2016-06-17</td>\n",
       "      <td>11620</td>\n",
       "      <td>Friday</td>\n",
       "      <td>7</td>\n",
       "      <td>6</td>\n",
       "      <td>2016</td>\n",
       "      <td>d_1967</td>\n",
       "      <td>NaN</td>\n",
       "      <td>NaN</td>\n",
       "      <td>NaN</td>\n",
       "      <td>NaN</td>\n",
       "      <td>0</td>\n",
       "      <td>0</td>\n",
       "      <td>0</td>\n",
       "    </tr>\n",
       "    <tr>\n",
       "      <th>1967</th>\n",
       "      <td>2016-06-18</td>\n",
       "      <td>11621</td>\n",
       "      <td>Saturday</td>\n",
       "      <td>1</td>\n",
       "      <td>6</td>\n",
       "      <td>2016</td>\n",
       "      <td>d_1968</td>\n",
       "      <td>NaN</td>\n",
       "      <td>NaN</td>\n",
       "      <td>NaN</td>\n",
       "      <td>NaN</td>\n",
       "      <td>0</td>\n",
       "      <td>0</td>\n",
       "      <td>0</td>\n",
       "    </tr>\n",
       "    <tr>\n",
       "      <th>1968</th>\n",
       "      <td>2016-06-19</td>\n",
       "      <td>11621</td>\n",
       "      <td>Sunday</td>\n",
       "      <td>2</td>\n",
       "      <td>6</td>\n",
       "      <td>2016</td>\n",
       "      <td>d_1969</td>\n",
       "      <td>NBAFinalsEnd</td>\n",
       "      <td>Sporting</td>\n",
       "      <td>Father's day</td>\n",
       "      <td>Cultural</td>\n",
       "      <td>0</td>\n",
       "      <td>0</td>\n",
       "      <td>0</td>\n",
       "    </tr>\n",
       "  </tbody>\n",
       "</table>\n",
       "</div>"
      ],
      "text/plain": [
       "            date  wm_yr_wk    weekday  wday  month  year       d  \\\n",
       "1964  2016-06-15     11620  Wednesday     5      6  2016  d_1965   \n",
       "1965  2016-06-16     11620   Thursday     6      6  2016  d_1966   \n",
       "1966  2016-06-17     11620     Friday     7      6  2016  d_1967   \n",
       "1967  2016-06-18     11621   Saturday     1      6  2016  d_1968   \n",
       "1968  2016-06-19     11621     Sunday     2      6  2016  d_1969   \n",
       "\n",
       "      event_name_1 event_type_1  event_name_2 event_type_2  snap_CA  snap_TX  \\\n",
       "1964           NaN          NaN           NaN          NaN        0        1   \n",
       "1965           NaN          NaN           NaN          NaN        0        0   \n",
       "1966           NaN          NaN           NaN          NaN        0        0   \n",
       "1967           NaN          NaN           NaN          NaN        0        0   \n",
       "1968  NBAFinalsEnd     Sporting  Father's day     Cultural        0        0   \n",
       "\n",
       "      snap_WI  \n",
       "1964        1  \n",
       "1965        0  \n",
       "1966        0  \n",
       "1967        0  \n",
       "1968        0  "
      ]
     },
     "execution_count": 5,
     "metadata": {},
     "output_type": "execute_result"
    }
   ],
   "source": [
    "df_cal.tail()"
   ]
  },
  {
   "cell_type": "markdown",
   "id": "bfd0bdc3-8a5f-4ac3-819d-761ad8ed25db",
   "metadata": {},
   "source": [
    "#### 2.1 Nulos"
   ]
  },
  {
   "cell_type": "code",
   "execution_count": 6,
   "id": "4b753aeb-523c-45e3-ab85-a70ea9929e43",
   "metadata": {},
   "outputs": [
    {
     "data": {
      "text/plain": [
       "date             0.00\n",
       "wm_yr_wk         0.00\n",
       "weekday          0.00\n",
       "wday             0.00\n",
       "month            0.00\n",
       "year             0.00\n",
       "d                0.00\n",
       "event_name_1    91.77\n",
       "event_type_1    91.77\n",
       "event_name_2    99.75\n",
       "event_type_2    99.75\n",
       "snap_CA          0.00\n",
       "snap_TX          0.00\n",
       "snap_WI          0.00\n",
       "dtype: float64"
      ]
     },
     "execution_count": 6,
     "metadata": {},
     "output_type": "execute_result"
    }
   ],
   "source": [
    "# porcentaje de nulos\n",
    "round(100 * (df_cal.isnull().sum() / df_cal.shape[0]), 2)"
   ]
  },
  {
   "cell_type": "code",
   "execution_count": null,
   "id": "1e7943c4-2825-4298-a082-a5dce84ae7a1",
   "metadata": {},
   "outputs": [],
   "source": []
  },
  {
   "cell_type": "markdown",
   "id": "b5ebb95e-345f-4793-8c20-6645f0360ccf",
   "metadata": {},
   "source": [
    "#### 2.2 Indice: wm_yr_wk\n",
    "Pareciera ser un índice que muestra los valores de \"semana\" y \"año\"\n",
    "\n",
    "Además se observa que cambia su valor cuando la semana llega a día sábado. Por lo que se cuentan las semanas desde el día sábado"
   ]
  },
  {
   "cell_type": "code",
   "execution_count": 7,
   "id": "064a7ed1-d6da-498b-a580-0230f419a34e",
   "metadata": {},
   "outputs": [
    {
     "data": {
      "text/plain": [
       "(282,)"
      ]
     },
     "execution_count": 7,
     "metadata": {},
     "output_type": "execute_result"
    }
   ],
   "source": [
    "# indice \"wm_yr_wk\" cantidad de indices únicos\n",
    "df_cal['wm_yr_wk'].unique().shape"
   ]
  },
  {
   "cell_type": "code",
   "execution_count": 8,
   "id": "31493c2f-c9fa-4433-b005-99f917f6aa60",
   "metadata": {},
   "outputs": [
    {
     "data": {
      "text/html": [
       "<div>\n",
       "<style scoped>\n",
       "    .dataframe tbody tr th:only-of-type {\n",
       "        vertical-align: middle;\n",
       "    }\n",
       "\n",
       "    .dataframe tbody tr th {\n",
       "        vertical-align: top;\n",
       "    }\n",
       "\n",
       "    .dataframe thead th {\n",
       "        text-align: right;\n",
       "    }\n",
       "</style>\n",
       "<table border=\"1\" class=\"dataframe\">\n",
       "  <thead>\n",
       "    <tr style=\"text-align: right;\">\n",
       "      <th></th>\n",
       "      <th>date</th>\n",
       "      <th>wm_yr_wk</th>\n",
       "      <th>weekday</th>\n",
       "      <th>wday</th>\n",
       "      <th>month</th>\n",
       "      <th>year</th>\n",
       "      <th>d</th>\n",
       "      <th>event_name_1</th>\n",
       "      <th>event_type_1</th>\n",
       "      <th>event_name_2</th>\n",
       "      <th>event_type_2</th>\n",
       "      <th>snap_CA</th>\n",
       "      <th>snap_TX</th>\n",
       "      <th>snap_WI</th>\n",
       "    </tr>\n",
       "  </thead>\n",
       "  <tbody>\n",
       "    <tr>\n",
       "      <th>0</th>\n",
       "      <td>2011-01-29</td>\n",
       "      <td>11101</td>\n",
       "      <td>Saturday</td>\n",
       "      <td>1</td>\n",
       "      <td>1</td>\n",
       "      <td>2011</td>\n",
       "      <td>d_1</td>\n",
       "      <td>NaN</td>\n",
       "      <td>NaN</td>\n",
       "      <td>NaN</td>\n",
       "      <td>NaN</td>\n",
       "      <td>0</td>\n",
       "      <td>0</td>\n",
       "      <td>0</td>\n",
       "    </tr>\n",
       "    <tr>\n",
       "      <th>1</th>\n",
       "      <td>2011-01-30</td>\n",
       "      <td>11101</td>\n",
       "      <td>Sunday</td>\n",
       "      <td>2</td>\n",
       "      <td>1</td>\n",
       "      <td>2011</td>\n",
       "      <td>d_2</td>\n",
       "      <td>NaN</td>\n",
       "      <td>NaN</td>\n",
       "      <td>NaN</td>\n",
       "      <td>NaN</td>\n",
       "      <td>0</td>\n",
       "      <td>0</td>\n",
       "      <td>0</td>\n",
       "    </tr>\n",
       "  </tbody>\n",
       "</table>\n",
       "</div>"
      ],
      "text/plain": [
       "         date  wm_yr_wk   weekday  wday  month  year    d event_name_1  \\\n",
       "0  2011-01-29     11101  Saturday     1      1  2011  d_1          NaN   \n",
       "1  2011-01-30     11101    Sunday     2      1  2011  d_2          NaN   \n",
       "\n",
       "  event_type_1 event_name_2 event_type_2  snap_CA  snap_TX  snap_WI  \n",
       "0          NaN          NaN          NaN        0        0        0  \n",
       "1          NaN          NaN          NaN        0        0        0  "
      ]
     },
     "execution_count": 8,
     "metadata": {},
     "output_type": "execute_result"
    }
   ],
   "source": [
    "df_cal.head(2)"
   ]
  },
  {
   "cell_type": "code",
   "execution_count": 9,
   "id": "785eb847-3f06-428c-8314-3766aa0571d7",
   "metadata": {},
   "outputs": [],
   "source": [
    "# crear un dataframe auxiliar y revisar si el índice wm_yr_wk corresponde a la combinación \"semana\"_\"año\"\n",
    "df_cal_aux = df_cal.copy()\n",
    "\n",
    "# obtener valor de semana conteo normal\n",
    "df_cal_aux['date'] = pd.to_datetime(df_cal_aux['date'])\n",
    "df_cal_aux['week'] = df_cal_aux['date'].dt.isocalendar().week \n",
    "\n",
    "# obtener dia de la semana PARTIENDO EL SABADO LA SEMANA - en los datos un id parece comenzar ese dia\n",
    "df_cal_aux['adjusted_date'] = df_cal_aux['date'] - pd.to_timedelta((df_cal_aux['date'].dt.dayofweek + 2) % 7, unit='D')\n",
    "df_cal_aux['week_saturday'] = df_cal_aux['adjusted_date'].dt.isocalendar().week"
   ]
  },
  {
   "cell_type": "code",
   "execution_count": 10,
   "id": "afd2fbae-7b3e-407c-9387-0aa4fb4f08fb",
   "metadata": {},
   "outputs": [
    {
     "data": {
      "text/plain": [
       "(283,)"
      ]
     },
     "execution_count": 10,
     "metadata": {},
     "output_type": "execute_result"
    }
   ],
   "source": [
    "# contar la cantiadad de semanas año\n",
    "df_cal_aux.groupby(['week', 'year']).size().shape#.reset_index()"
   ]
  },
  {
   "cell_type": "code",
   "execution_count": 11,
   "id": "37dfe767-dbb5-464f-b321-d03d0dac0cfe",
   "metadata": {},
   "outputs": [
    {
     "data": {
      "text/plain": [
       "(283,)"
      ]
     },
     "execution_count": 11,
     "metadata": {},
     "output_type": "execute_result"
    }
   ],
   "source": [
    "# contar la cantiadad de semanas año partiendo a contar el sabado\n",
    "df_cal_aux.groupby(['week_saturday', 'year']).size().shape#.reset_index()"
   ]
  },
  {
   "cell_type": "code",
   "execution_count": 12,
   "id": "a2f526a4-73ca-49ed-ad36-a06f4ccba09e",
   "metadata": {},
   "outputs": [
    {
     "data": {
      "text/plain": [
       "(282,)"
      ]
     },
     "execution_count": 12,
     "metadata": {},
     "output_type": "execute_result"
    }
   ],
   "source": [
    "# indice \"wm_yr_wk\" cantidad de indices únicos\n",
    "df_cal['wm_yr_wk'].unique().shape"
   ]
  },
  {
   "cell_type": "markdown",
   "id": "abfbe445-b8df-4f29-b3e9-5a4869034a04",
   "metadata": {},
   "source": [
    "Se puede observar que el índice parte tiene un valor menos, pero casi no hay dudas que representa la combinación única de semana_año"
   ]
  },
  {
   "cell_type": "code",
   "execution_count": null,
   "id": "71e9c0b0-8de8-4079-992a-2935544fcf24",
   "metadata": {},
   "outputs": [],
   "source": []
  },
  {
   "cell_type": "markdown",
   "id": "190202b6-9dcb-4c91-a9e2-e01e6dd05368",
   "metadata": {},
   "source": [
    "#### 2.3 Explorar eventos"
   ]
  },
  {
   "cell_type": "code",
   "execution_count": 13,
   "id": "8db5163a-3aca-4df1-a02f-2eef3f8874b0",
   "metadata": {},
   "outputs": [
    {
     "data": {
      "text/plain": [
       "array([nan, 'SuperBowl', 'ValentinesDay', 'PresidentsDay', 'LentStart',\n",
       "       'LentWeek2', 'StPatricksDay', 'Purim End', 'OrthodoxEaster',\n",
       "       'Pesach End', 'Cinco De Mayo', \"Mother's day\", 'MemorialDay',\n",
       "       'NBAFinalsStart', 'NBAFinalsEnd', \"Father's day\",\n",
       "       'IndependenceDay', 'Ramadan starts', 'Eid al-Fitr', 'LaborDay',\n",
       "       'ColumbusDay', 'Halloween', 'EidAlAdha', 'VeteransDay',\n",
       "       'Thanksgiving', 'Christmas', 'Chanukah End', 'NewYear',\n",
       "       'OrthodoxChristmas', 'MartinLutherKingDay', 'Easter'], dtype=object)"
      ]
     },
     "execution_count": 13,
     "metadata": {},
     "output_type": "execute_result"
    }
   ],
   "source": [
    "# saber los tipos únicos de eventos - NOMBRE EVENTO 1\n",
    "df_cal['event_name_1'].unique()"
   ]
  },
  {
   "cell_type": "code",
   "execution_count": 14,
   "id": "13a650d7-edb9-4a0f-a70e-096633bcbcf5",
   "metadata": {},
   "outputs": [
    {
     "data": {
      "text/plain": [
       "array([nan, 'Easter', 'Cinco De Mayo', 'OrthodoxEaster', \"Father's day\"],\n",
       "      dtype=object)"
      ]
     },
     "execution_count": 14,
     "metadata": {},
     "output_type": "execute_result"
    }
   ],
   "source": [
    "# saber los tipos únicos de eventos - NOMBRE EVENTO 2\n",
    "df_cal['event_name_2'].unique()"
   ]
  },
  {
   "cell_type": "code",
   "execution_count": 15,
   "id": "09658539-624c-47a6-b2c8-363bbda202c6",
   "metadata": {},
   "outputs": [
    {
     "data": {
      "text/plain": [
       "array([nan, 'Sporting', 'Cultural', 'National', 'Religious'], dtype=object)"
      ]
     },
     "execution_count": 15,
     "metadata": {},
     "output_type": "execute_result"
    }
   ],
   "source": [
    "# saber los tipos únicos de eventos - TIPO EVENTO 1\n",
    "df_cal['event_type_1'].unique()"
   ]
  },
  {
   "cell_type": "code",
   "execution_count": 16,
   "id": "96531fc9-1d24-434b-a1b4-a9064dd9315c",
   "metadata": {},
   "outputs": [
    {
     "data": {
      "text/plain": [
       "array([nan, 'Cultural', 'Religious'], dtype=object)"
      ]
     },
     "execution_count": 16,
     "metadata": {},
     "output_type": "execute_result"
    }
   ],
   "source": [
    "# saber los tipos únicos de eventos - TIPO EVENTO 2\n",
    "df_cal['event_type_2'].unique()\n",
    "\n",
    "# se puede observar que los eventos 2 se agregan por si EN UN DÍA hubiera MÁS DE UN TIPO DE EVENTO"
   ]
  },
  {
   "cell_type": "code",
   "execution_count": null,
   "id": "7470d80e-5881-4821-abe5-b1317fdb3f60",
   "metadata": {},
   "outputs": [],
   "source": []
  },
  {
   "cell_type": "markdown",
   "id": "97ed3b0a-3c15-4893-a554-bd19ff0d0714",
   "metadata": {},
   "source": [
    "#### 2.4 Date / d\n",
    "Explorar las columnas \"date\" con las fechas y la columna \"d\" que debe ser un contador de los distintos días que hay en los datos"
   ]
  },
  {
   "cell_type": "code",
   "execution_count": 17,
   "id": "21d527fb-99c1-4132-b392-b6e030dad003",
   "metadata": {},
   "outputs": [
    {
     "data": {
      "text/plain": [
       "(1969,)"
      ]
     },
     "execution_count": 17,
     "metadata": {},
     "output_type": "execute_result"
    }
   ],
   "source": [
    "# índices únicos de columna \"date\"\n",
    "df_cal['date'].unique().shape"
   ]
  },
  {
   "cell_type": "code",
   "execution_count": 18,
   "id": "0903cf00-fec7-4d59-a48c-17aa112fa863",
   "metadata": {},
   "outputs": [
    {
     "data": {
      "text/plain": [
       "(1969,)"
      ]
     },
     "execution_count": 18,
     "metadata": {},
     "output_type": "execute_result"
    }
   ],
   "source": [
    "# índices únicos de columna \"d\" contador días\n",
    "df_cal['d'].unique().shape"
   ]
  },
  {
   "cell_type": "code",
   "execution_count": null,
   "id": "5ae6e9e3-2dac-4121-9c1b-c7a86bec0c2c",
   "metadata": {},
   "outputs": [],
   "source": []
  },
  {
   "cell_type": "markdown",
   "id": "a8d9b5ad-75a8-4e13-92d0-61f8ad6f1085",
   "metadata": {},
   "source": [
    "#### 2.5 Explorar snap_xx\n",
    "Explorar los valores de snap_CA, snap_TX, snap_WI"
   ]
  },
  {
   "cell_type": "code",
   "execution_count": 19,
   "id": "037390c9-bded-4cf5-ae9c-ccc73ac0698a",
   "metadata": {},
   "outputs": [
    {
     "data": {
      "text/plain": [
       "array([0, 1])"
      ]
     },
     "execution_count": 19,
     "metadata": {},
     "output_type": "execute_result"
    }
   ],
   "source": [
    "df_cal['snap_CA'].unique()"
   ]
  },
  {
   "cell_type": "code",
   "execution_count": 20,
   "id": "3ace99be-cd1f-46fc-bbac-2ccf6cdb35a9",
   "metadata": {},
   "outputs": [
    {
     "data": {
      "text/plain": [
       "650"
      ]
     },
     "execution_count": 20,
     "metadata": {},
     "output_type": "execute_result"
    }
   ],
   "source": [
    "df_cal['snap_TX'].sum()"
   ]
  },
  {
   "cell_type": "code",
   "execution_count": 21,
   "id": "02a92fe4-88d6-4ef5-a31e-35589e7ac625",
   "metadata": {},
   "outputs": [
    {
     "data": {
      "text/plain": [
       "650"
      ]
     },
     "execution_count": 21,
     "metadata": {},
     "output_type": "execute_result"
    }
   ],
   "source": [
    "df_cal['snap_CA'].sum()"
   ]
  },
  {
   "cell_type": "code",
   "execution_count": 22,
   "id": "bd0776e6-8943-42d0-925c-6586c8052484",
   "metadata": {},
   "outputs": [
    {
     "data": {
      "text/plain": [
       "650"
      ]
     },
     "execution_count": 22,
     "metadata": {},
     "output_type": "execute_result"
    }
   ],
   "source": [
    "df_cal['snap_WI'].sum()"
   ]
  },
  {
   "cell_type": "code",
   "execution_count": null,
   "id": "68681a46-50d0-4bec-aacc-d33b66fabbdb",
   "metadata": {},
   "outputs": [],
   "source": []
  },
  {
   "cell_type": "markdown",
   "id": "51f1d5b0-887a-4901-9992-c200bb45e056",
   "metadata": {},
   "source": [
    "#### 2.6 Fecha min y max en los datos calendario"
   ]
  },
  {
   "cell_type": "code",
   "execution_count": 23,
   "id": "25bab330-591e-48b7-bb60-52c5b819560c",
   "metadata": {},
   "outputs": [
    {
     "data": {
      "text/plain": [
       "'2011-01-29'"
      ]
     },
     "execution_count": 23,
     "metadata": {},
     "output_type": "execute_result"
    }
   ],
   "source": [
    "df_cal['date'].min()"
   ]
  },
  {
   "cell_type": "code",
   "execution_count": 24,
   "id": "13d0e1ab-4466-497f-8539-b0201601bfc0",
   "metadata": {},
   "outputs": [
    {
     "data": {
      "text/plain": [
       "'2016-06-19'"
      ]
     },
     "execution_count": 24,
     "metadata": {},
     "output_type": "execute_result"
    }
   ],
   "source": [
    "df_cal['date'].max()"
   ]
  },
  {
   "cell_type": "code",
   "execution_count": 25,
   "id": "018ec654-4881-4b5a-a8c2-b96e6fa1e583",
   "metadata": {},
   "outputs": [
    {
     "data": {
      "text/plain": [
       "(1969,)"
      ]
     },
     "execution_count": 25,
     "metadata": {},
     "output_type": "execute_result"
    }
   ],
   "source": [
    "df_cal['date'].unique().shape"
   ]
  },
  {
   "cell_type": "code",
   "execution_count": null,
   "id": "fe3567eb-152d-4168-9191-6c0269a7f771",
   "metadata": {},
   "outputs": [],
   "source": []
  },
  {
   "cell_type": "markdown",
   "id": "a63c60df-4e4e-4e95-8cb4-890abd05aa50",
   "metadata": {},
   "source": [
    "#### 2.7 Fecha min y max en el indice \"wm_yr_wk\""
   ]
  },
  {
   "cell_type": "code",
   "execution_count": 26,
   "id": "e5bea3c8-de3f-497a-be88-1aa5e6e8a8b5",
   "metadata": {},
   "outputs": [
    {
     "data": {
      "text/plain": [
       "11101"
      ]
     },
     "execution_count": 26,
     "metadata": {},
     "output_type": "execute_result"
    }
   ],
   "source": [
    "# fecha minima\n",
    "df_cal['wm_yr_wk'].min()"
   ]
  },
  {
   "cell_type": "code",
   "execution_count": 27,
   "id": "36c57f5b-7bdd-4875-99d0-b8b15750b4b8",
   "metadata": {},
   "outputs": [
    {
     "data": {
      "text/plain": [
       "11621"
      ]
     },
     "execution_count": 27,
     "metadata": {},
     "output_type": "execute_result"
    }
   ],
   "source": [
    "# fecha maxima\n",
    "df_cal['wm_yr_wk'].max()"
   ]
  },
  {
   "cell_type": "code",
   "execution_count": 28,
   "id": "ff265892-20ae-46d7-af88-50b06d5f858e",
   "metadata": {},
   "outputs": [
    {
     "data": {
      "text/plain": [
       "(282,)"
      ]
     },
     "execution_count": 28,
     "metadata": {},
     "output_type": "execute_result"
    }
   ],
   "source": [
    "# cantidad de fechas\n",
    "df_cal['wm_yr_wk'].unique().shape"
   ]
  },
  {
   "cell_type": "code",
   "execution_count": null,
   "id": "51e8e9bb-8f5c-4729-8d64-3649ed0ba56b",
   "metadata": {},
   "outputs": [],
   "source": []
  },
  {
   "cell_type": "code",
   "execution_count": null,
   "id": "90504b5a-31a9-48b1-8f7d-3840364b51c6",
   "metadata": {},
   "outputs": [],
   "source": []
  },
  {
   "cell_type": "markdown",
   "id": "2ccaf31e-e62b-4b16-a57c-17846ef06fac",
   "metadata": {},
   "source": [
    "### 3. Discovery Price"
   ]
  },
  {
   "cell_type": "code",
   "execution_count": 29,
   "id": "ead7eb56-fb71-4274-a523-390aab4958ce",
   "metadata": {},
   "outputs": [
    {
     "data": {
      "text/html": [
       "<div>\n",
       "<style scoped>\n",
       "    .dataframe tbody tr th:only-of-type {\n",
       "        vertical-align: middle;\n",
       "    }\n",
       "\n",
       "    .dataframe tbody tr th {\n",
       "        vertical-align: top;\n",
       "    }\n",
       "\n",
       "    .dataframe thead th {\n",
       "        text-align: right;\n",
       "    }\n",
       "</style>\n",
       "<table border=\"1\" class=\"dataframe\">\n",
       "  <thead>\n",
       "    <tr style=\"text-align: right;\">\n",
       "      <th></th>\n",
       "      <th>store_id</th>\n",
       "      <th>item_id</th>\n",
       "      <th>wm_yr_wk</th>\n",
       "      <th>sell_price</th>\n",
       "    </tr>\n",
       "  </thead>\n",
       "  <tbody>\n",
       "    <tr>\n",
       "      <th>0</th>\n",
       "      <td>CA_1</td>\n",
       "      <td>HOBBIES_1_001</td>\n",
       "      <td>11325</td>\n",
       "      <td>9.58</td>\n",
       "    </tr>\n",
       "    <tr>\n",
       "      <th>1</th>\n",
       "      <td>CA_1</td>\n",
       "      <td>HOBBIES_1_001</td>\n",
       "      <td>11326</td>\n",
       "      <td>9.58</td>\n",
       "    </tr>\n",
       "    <tr>\n",
       "      <th>2</th>\n",
       "      <td>CA_1</td>\n",
       "      <td>HOBBIES_1_001</td>\n",
       "      <td>11327</td>\n",
       "      <td>8.26</td>\n",
       "    </tr>\n",
       "    <tr>\n",
       "      <th>3</th>\n",
       "      <td>CA_1</td>\n",
       "      <td>HOBBIES_1_001</td>\n",
       "      <td>11328</td>\n",
       "      <td>8.26</td>\n",
       "    </tr>\n",
       "    <tr>\n",
       "      <th>4</th>\n",
       "      <td>CA_1</td>\n",
       "      <td>HOBBIES_1_001</td>\n",
       "      <td>11329</td>\n",
       "      <td>8.26</td>\n",
       "    </tr>\n",
       "  </tbody>\n",
       "</table>\n",
       "</div>"
      ],
      "text/plain": [
       "  store_id        item_id  wm_yr_wk  sell_price\n",
       "0     CA_1  HOBBIES_1_001     11325        9.58\n",
       "1     CA_1  HOBBIES_1_001     11326        9.58\n",
       "2     CA_1  HOBBIES_1_001     11327        8.26\n",
       "3     CA_1  HOBBIES_1_001     11328        8.26\n",
       "4     CA_1  HOBBIES_1_001     11329        8.26"
      ]
     },
     "execution_count": 29,
     "metadata": {},
     "output_type": "execute_result"
    }
   ],
   "source": [
    "df_price.head()"
   ]
  },
  {
   "cell_type": "markdown",
   "id": "9ed4eaaa-501a-4809-b29f-473985c75903",
   "metadata": {},
   "source": [
    "#### 3.0 Valores nulos"
   ]
  },
  {
   "cell_type": "code",
   "execution_count": 30,
   "id": "bd3080eb-df78-4799-bf24-b85d86ea6046",
   "metadata": {},
   "outputs": [
    {
     "data": {
      "text/plain": [
       "store_id      0\n",
       "item_id       0\n",
       "wm_yr_wk      0\n",
       "sell_price    0\n",
       "dtype: int64"
      ]
     },
     "execution_count": 30,
     "metadata": {},
     "output_type": "execute_result"
    }
   ],
   "source": [
    "df_price.isnull().sum()"
   ]
  },
  {
   "cell_type": "code",
   "execution_count": null,
   "id": "7ccb2be1-648c-4a85-a2f2-94c269934e49",
   "metadata": {},
   "outputs": [],
   "source": []
  },
  {
   "cell_type": "markdown",
   "id": "b69eb1ea-efdf-4a04-a0dd-179899d4ea0a",
   "metadata": {},
   "source": [
    "#### 3.1 Store id únicos\n",
    "Se puede observar que son las tiendas de las ubicaciones CA, TX, WI\n",
    "\n",
    "Se agrega un índice, me imagino que para indicar el tipo de tienda, CA_1, CA_2, etc"
   ]
  },
  {
   "cell_type": "code",
   "execution_count": 31,
   "id": "13c6c238-7390-4a00-9626-d2904b35d32d",
   "metadata": {},
   "outputs": [
    {
     "data": {
      "text/plain": [
       "array(['CA_1', 'CA_2', 'CA_3', 'CA_4', 'TX_1', 'TX_2', 'TX_3', 'WI_1',\n",
       "       'WI_2', 'WI_3'], dtype=object)"
      ]
     },
     "execution_count": 31,
     "metadata": {},
     "output_type": "execute_result"
    }
   ],
   "source": [
    "# tiendas únicas\n",
    "df_price['store_id'].unique()"
   ]
  },
  {
   "cell_type": "code",
   "execution_count": 32,
   "id": "94d6a7cb-e121-4044-9bfa-a93615c98abf",
   "metadata": {},
   "outputs": [
    {
     "data": {
      "text/plain": [
       "store_id\n",
       "TX_2    701214\n",
       "TX_1    699796\n",
       "CA_1    698412\n",
       "WI_3    696094\n",
       "CA_3    693990\n",
       "TX_3    691112\n",
       "CA_4    679025\n",
       "WI_2    678171\n",
       "WI_1    665912\n",
       "CA_2    637395\n",
       "Name: count, dtype: int64"
      ]
     },
     "execution_count": 32,
     "metadata": {},
     "output_type": "execute_result"
    }
   ],
   "source": [
    "# cantidad de observaciones para cada tienda\n",
    "df_price['store_id'].value_counts()"
   ]
  },
  {
   "cell_type": "code",
   "execution_count": null,
   "id": "d4fb6705-496f-464d-9420-ba8cf5e65478",
   "metadata": {},
   "outputs": [],
   "source": []
  },
  {
   "cell_type": "markdown",
   "id": "d9539013-2a32-47b7-92dc-67da5a236e64",
   "metadata": {},
   "source": [
    "#### 3.2 Item id únicos"
   ]
  },
  {
   "cell_type": "code",
   "execution_count": 33,
   "id": "0efc237b-d10b-4764-9562-67a25e2c4f27",
   "metadata": {},
   "outputs": [
    {
     "data": {
      "text/plain": [
       "array(['HOBBIES_1_001', 'HOBBIES_1_002', 'HOBBIES_1_003', ...,\n",
       "       'FOODS_3_825', 'FOODS_3_826', 'FOODS_3_827'], dtype=object)"
      ]
     },
     "execution_count": 33,
     "metadata": {},
     "output_type": "execute_result"
    }
   ],
   "source": [
    "# item únicas\n",
    "df_price['item_id'].unique()"
   ]
  },
  {
   "cell_type": "code",
   "execution_count": 34,
   "id": "42e4796a-3bc8-4390-9826-b1914b7c9278",
   "metadata": {},
   "outputs": [
    {
     "data": {
      "text/plain": [
       "(3049,)"
      ]
     },
     "execution_count": 34,
     "metadata": {},
     "output_type": "execute_result"
    }
   ],
   "source": [
    "# item únicas cantidad observaciones\n",
    "df_price['item_id'].unique().shape"
   ]
  },
  {
   "cell_type": "code",
   "execution_count": 35,
   "id": "b71ca94a-5d25-4e7b-9316-8afbeab26882",
   "metadata": {},
   "outputs": [
    {
     "data": {
      "text/plain": [
       "item_id\n",
       "FOODS_3_587        2820\n",
       "HOUSEHOLD_1_177    2820\n",
       "HOUSEHOLD_2_283    2820\n",
       "HOBBIES_1_337      2820\n",
       "FOODS_1_032        2820\n",
       "                   ... \n",
       "HOUSEHOLD_1_308     642\n",
       "HOUSEHOLD_1_159     623\n",
       "HOUSEHOLD_1_242     600\n",
       "FOODS_3_296         592\n",
       "FOODS_2_379         530\n",
       "Name: count, Length: 3049, dtype: int64"
      ]
     },
     "execution_count": 35,
     "metadata": {},
     "output_type": "execute_result"
    }
   ],
   "source": [
    "# cantidad de observaciones para cada objeto\n",
    "df_price['item_id'].value_counts()"
   ]
  },
  {
   "cell_type": "code",
   "execution_count": 36,
   "id": "73aeeb5f-948b-47fe-acac-bafcae74838a",
   "metadata": {},
   "outputs": [
    {
     "data": {
      "text/plain": [
       "item_id\n",
       "FOODS_3_587        0.041221\n",
       "HOUSEHOLD_1_177    0.041221\n",
       "HOUSEHOLD_2_283    0.041221\n",
       "HOBBIES_1_337      0.041221\n",
       "FOODS_1_032        0.041221\n",
       "                     ...   \n",
       "HOUSEHOLD_1_308    0.009384\n",
       "HOUSEHOLD_1_159    0.009107\n",
       "HOUSEHOLD_1_242    0.008770\n",
       "FOODS_3_296        0.008654\n",
       "FOODS_2_379        0.007747\n",
       "Name: count, Length: 3049, dtype: float64"
      ]
     },
     "execution_count": 36,
     "metadata": {},
     "output_type": "execute_result"
    }
   ],
   "source": [
    "# cantidad de observaciones para cada objeto con respecto al total de observaciones\n",
    "100 * (df_price['item_id'].value_counts() / df_price.shape[0])"
   ]
  },
  {
   "cell_type": "code",
   "execution_count": null,
   "id": "47d8c058-3382-4243-b3b1-79aabff76798",
   "metadata": {},
   "outputs": [],
   "source": []
  },
  {
   "cell_type": "markdown",
   "id": "daab7633-2ecb-4538-888d-0ab44a45e55d",
   "metadata": {},
   "source": [
    "#### 3.3 indice fecha wm_yr_wk - fecha minima y maxima - SEMANA/YEAR\n",
    "Fecha en el dataframe de precios\n",
    "\n",
    "Se puede observar que la información está a nivel semana. Mientras que los otros datasets están en frecuencia diaria"
   ]
  },
  {
   "cell_type": "code",
   "execution_count": 37,
   "id": "9002a546-1d26-4fca-bcd1-c63654a46210",
   "metadata": {},
   "outputs": [
    {
     "name": "stdout",
     "output_type": "stream",
     "text": [
      "fecha dataframe precios\n",
      "fecha minima:  11101\n",
      "fecha maxima:  11621\n",
      "cantidad fechas únicas:  (282,)\n"
     ]
    }
   ],
   "source": [
    "print('fecha dataframe precios')\n",
    "print('fecha minima: ', df_price['wm_yr_wk'].min())\n",
    "print('fecha maxima: ', df_price['wm_yr_wk'].max())\n",
    "print('cantidad fechas únicas: ', df_price['wm_yr_wk'].unique().shape)"
   ]
  },
  {
   "cell_type": "code",
   "execution_count": 38,
   "id": "6fb56d7d-cd96-48f6-9a92-b5afe851f149",
   "metadata": {},
   "outputs": [
    {
     "name": "stdout",
     "output_type": "stream",
     "text": [
      "fecha dataframe CALENDARIO\n",
      "fecha minima:  11101\n",
      "fecha maxima:  11621\n",
      "cantidad fechas únicas:  (282,)\n"
     ]
    }
   ],
   "source": [
    "# mostrar fechas del dataframe calendario \n",
    "print('fecha dataframe CALENDARIO')\n",
    "print('fecha minima: ', df_cal['wm_yr_wk'].min())\n",
    "print('fecha maxima: ', df_cal['wm_yr_wk'].max())\n",
    "print('cantidad fechas únicas: ', df_cal['wm_yr_wk'].unique().shape)"
   ]
  },
  {
   "cell_type": "markdown",
   "id": "308e59ea-2c28-4e14-883d-95db6c14c85d",
   "metadata": {},
   "source": [
    "Se puede observar que los valores mínimo y maximo en los datos son los mismos"
   ]
  },
  {
   "cell_type": "code",
   "execution_count": null,
   "id": "ba07539e-b569-4131-9ad1-69f67b63cd70",
   "metadata": {},
   "outputs": [],
   "source": []
  },
  {
   "cell_type": "code",
   "execution_count": null,
   "id": "d1e668ba-64aa-40ce-b1b3-a41913c9cc37",
   "metadata": {},
   "outputs": [],
   "source": []
  },
  {
   "cell_type": "markdown",
   "id": "4e0b2c2a-0203-4620-b0d5-5358f84a3a14",
   "metadata": {},
   "source": [
    "#### 3.4 Valores de precios"
   ]
  },
  {
   "cell_type": "code",
   "execution_count": 39,
   "id": "841902bb-12ad-4602-bfc2-e40fb0209d1d",
   "metadata": {},
   "outputs": [
    {
     "data": {
      "text/html": [
       "<div>\n",
       "<style scoped>\n",
       "    .dataframe tbody tr th:only-of-type {\n",
       "        vertical-align: middle;\n",
       "    }\n",
       "\n",
       "    .dataframe tbody tr th {\n",
       "        vertical-align: top;\n",
       "    }\n",
       "\n",
       "    .dataframe thead th {\n",
       "        text-align: right;\n",
       "    }\n",
       "</style>\n",
       "<table border=\"1\" class=\"dataframe\">\n",
       "  <thead>\n",
       "    <tr style=\"text-align: right;\">\n",
       "      <th></th>\n",
       "      <th>store_id</th>\n",
       "      <th>item_id</th>\n",
       "      <th>wm_yr_wk</th>\n",
       "      <th>sell_price</th>\n",
       "    </tr>\n",
       "  </thead>\n",
       "  <tbody>\n",
       "    <tr>\n",
       "      <th>0</th>\n",
       "      <td>CA_1</td>\n",
       "      <td>HOBBIES_1_001</td>\n",
       "      <td>11325</td>\n",
       "      <td>9.58</td>\n",
       "    </tr>\n",
       "    <tr>\n",
       "      <th>1</th>\n",
       "      <td>CA_1</td>\n",
       "      <td>HOBBIES_1_001</td>\n",
       "      <td>11326</td>\n",
       "      <td>9.58</td>\n",
       "    </tr>\n",
       "    <tr>\n",
       "      <th>2</th>\n",
       "      <td>CA_1</td>\n",
       "      <td>HOBBIES_1_001</td>\n",
       "      <td>11327</td>\n",
       "      <td>8.26</td>\n",
       "    </tr>\n",
       "    <tr>\n",
       "      <th>3</th>\n",
       "      <td>CA_1</td>\n",
       "      <td>HOBBIES_1_001</td>\n",
       "      <td>11328</td>\n",
       "      <td>8.26</td>\n",
       "    </tr>\n",
       "    <tr>\n",
       "      <th>4</th>\n",
       "      <td>CA_1</td>\n",
       "      <td>HOBBIES_1_001</td>\n",
       "      <td>11329</td>\n",
       "      <td>8.26</td>\n",
       "    </tr>\n",
       "    <tr>\n",
       "      <th>...</th>\n",
       "      <td>...</td>\n",
       "      <td>...</td>\n",
       "      <td>...</td>\n",
       "      <td>...</td>\n",
       "    </tr>\n",
       "    <tr>\n",
       "      <th>149</th>\n",
       "      <td>CA_1</td>\n",
       "      <td>HOBBIES_1_001</td>\n",
       "      <td>11617</td>\n",
       "      <td>8.38</td>\n",
       "    </tr>\n",
       "    <tr>\n",
       "      <th>150</th>\n",
       "      <td>CA_1</td>\n",
       "      <td>HOBBIES_1_001</td>\n",
       "      <td>11618</td>\n",
       "      <td>8.38</td>\n",
       "    </tr>\n",
       "    <tr>\n",
       "      <th>151</th>\n",
       "      <td>CA_1</td>\n",
       "      <td>HOBBIES_1_001</td>\n",
       "      <td>11619</td>\n",
       "      <td>8.38</td>\n",
       "    </tr>\n",
       "    <tr>\n",
       "      <th>152</th>\n",
       "      <td>CA_1</td>\n",
       "      <td>HOBBIES_1_001</td>\n",
       "      <td>11620</td>\n",
       "      <td>8.38</td>\n",
       "    </tr>\n",
       "    <tr>\n",
       "      <th>153</th>\n",
       "      <td>CA_1</td>\n",
       "      <td>HOBBIES_1_001</td>\n",
       "      <td>11621</td>\n",
       "      <td>8.38</td>\n",
       "    </tr>\n",
       "  </tbody>\n",
       "</table>\n",
       "<p>154 rows × 4 columns</p>\n",
       "</div>"
      ],
      "text/plain": [
       "    store_id        item_id  wm_yr_wk  sell_price\n",
       "0       CA_1  HOBBIES_1_001     11325        9.58\n",
       "1       CA_1  HOBBIES_1_001     11326        9.58\n",
       "2       CA_1  HOBBIES_1_001     11327        8.26\n",
       "3       CA_1  HOBBIES_1_001     11328        8.26\n",
       "4       CA_1  HOBBIES_1_001     11329        8.26\n",
       "..       ...            ...       ...         ...\n",
       "149     CA_1  HOBBIES_1_001     11617        8.38\n",
       "150     CA_1  HOBBIES_1_001     11618        8.38\n",
       "151     CA_1  HOBBIES_1_001     11619        8.38\n",
       "152     CA_1  HOBBIES_1_001     11620        8.38\n",
       "153     CA_1  HOBBIES_1_001     11621        8.38\n",
       "\n",
       "[154 rows x 4 columns]"
      ]
     },
     "execution_count": 39,
     "metadata": {},
     "output_type": "execute_result"
    }
   ],
   "source": [
    "# mostrar info de un item\n",
    "mask = (df_price['store_id'] == 'CA_1') & (df_price['item_id'] == 'HOBBIES_1_001')\n",
    "df_aux = df_price[mask]\n",
    "df_aux"
   ]
  },
  {
   "cell_type": "code",
   "execution_count": 40,
   "id": "b3f9c158-8c4c-4705-9e55-f7572b1d638c",
   "metadata": {},
   "outputs": [
    {
     "data": {
      "text/plain": [
       "count    154.000000\n",
       "mean       8.285714\n",
       "std        0.152139\n",
       "min        8.260000\n",
       "25%        8.260000\n",
       "50%        8.260000\n",
       "75%        8.260000\n",
       "max        9.580000\n",
       "Name: sell_price, dtype: float64"
      ]
     },
     "execution_count": 40,
     "metadata": {},
     "output_type": "execute_result"
    }
   ],
   "source": [
    "# se puede ver que el precio del producto varia a lo largo de las semanas\n",
    "df_aux['sell_price'].describe()"
   ]
  },
  {
   "cell_type": "code",
   "execution_count": 41,
   "id": "6d900ec3-f272-4bc2-9a3e-62e1536c81dc",
   "metadata": {},
   "outputs": [
    {
     "data": {
      "text/plain": [
       "array([9.58, 8.26, 8.38])"
      ]
     },
     "execution_count": 41,
     "metadata": {},
     "output_type": "execute_result"
    }
   ],
   "source": [
    "# valores únicos de los precios\n",
    "df_aux['sell_price'].unique()"
   ]
  },
  {
   "cell_type": "code",
   "execution_count": null,
   "id": "ca18bcf4-22dd-48bf-8cc1-dfd459cd5f9a",
   "metadata": {},
   "outputs": [],
   "source": []
  },
  {
   "cell_type": "markdown",
   "id": "18348f14-2511-4ea9-b5a8-8de07b61db94",
   "metadata": {},
   "source": [
    "### 4. Dataframe con las ventas"
   ]
  },
  {
   "cell_type": "code",
   "execution_count": 42,
   "id": "47464c9f-7cc5-4210-8650-63ca7dc158c5",
   "metadata": {},
   "outputs": [
    {
     "data": {
      "text/plain": [
       "(30490, 1947)"
      ]
     },
     "execution_count": 42,
     "metadata": {},
     "output_type": "execute_result"
    }
   ],
   "source": [
    "df_eval.shape"
   ]
  },
  {
   "cell_type": "code",
   "execution_count": null,
   "id": "efdbe8b1-3fe9-469b-8a8b-f22083329308",
   "metadata": {},
   "outputs": [],
   "source": []
  },
  {
   "cell_type": "markdown",
   "id": "c25d3948-a10c-493e-8f61-f3753c36b3e1",
   "metadata": {},
   "source": [
    "#### 4.0 Valores nulos"
   ]
  },
  {
   "cell_type": "code",
   "execution_count": 43,
   "id": "c1823bec-a820-47ac-bbd1-c2a324e61b2b",
   "metadata": {},
   "outputs": [
    {
     "data": {
      "text/plain": [
       "0"
      ]
     },
     "execution_count": 43,
     "metadata": {},
     "output_type": "execute_result"
    }
   ],
   "source": [
    "df_eval.isnull().sum().sum()"
   ]
  },
  {
   "cell_type": "code",
   "execution_count": null,
   "id": "7c675c0f-6700-4a31-8123-d80ac41cbe1e",
   "metadata": {},
   "outputs": [],
   "source": []
  },
  {
   "cell_type": "markdown",
   "id": "e71f3b6e-cbb8-4346-abda-bc7670975a35",
   "metadata": {},
   "source": [
    "#### 4.1 store ID únicas"
   ]
  },
  {
   "cell_type": "code",
   "execution_count": 44,
   "id": "e50d29b9-9803-4cba-aeb8-66a31bbf540f",
   "metadata": {},
   "outputs": [
    {
     "data": {
      "text/plain": [
       "array(['CA_1', 'CA_2', 'CA_3', 'CA_4', 'TX_1', 'TX_2', 'TX_3', 'WI_1',\n",
       "       'WI_2', 'WI_3'], dtype=object)"
      ]
     },
     "execution_count": 44,
     "metadata": {},
     "output_type": "execute_result"
    }
   ],
   "source": [
    "# store id unicas en dataframe ventas\n",
    "df_eval['store_id'].unique()"
   ]
  },
  {
   "cell_type": "code",
   "execution_count": 45,
   "id": "f5475e23-9eae-4907-bf68-6fcbb08c49f3",
   "metadata": {},
   "outputs": [
    {
     "data": {
      "text/plain": [
       "array(['CA_1', 'CA_2', 'CA_3', 'CA_4', 'TX_1', 'TX_2', 'TX_3', 'WI_1',\n",
       "       'WI_2', 'WI_3'], dtype=object)"
      ]
     },
     "execution_count": 45,
     "metadata": {},
     "output_type": "execute_result"
    }
   ],
   "source": [
    "# store id unicas en dataframe precios\n",
    "df_price['store_id'].unique()"
   ]
  },
  {
   "cell_type": "code",
   "execution_count": null,
   "id": "8f6cdfbd-6d8a-45db-a8a4-adff7a20306a",
   "metadata": {},
   "outputs": [],
   "source": []
  },
  {
   "cell_type": "markdown",
   "id": "4e916916-f7bb-4f32-97dd-d6030845f363",
   "metadata": {},
   "source": [
    "#### 4.2 item_id valores únicos"
   ]
  },
  {
   "cell_type": "code",
   "execution_count": 46,
   "id": "3d3a4c3c-5ade-4bf2-b7fc-27368496091e",
   "metadata": {},
   "outputs": [
    {
     "data": {
      "text/plain": [
       "array(['HOBBIES_1_001', 'HOBBIES_1_002', 'HOBBIES_1_003', ...,\n",
       "       'FOODS_3_825', 'FOODS_3_826', 'FOODS_3_827'], dtype=object)"
      ]
     },
     "execution_count": 46,
     "metadata": {},
     "output_type": "execute_result"
    }
   ],
   "source": [
    "df_eval['item_id'].unique()"
   ]
  },
  {
   "cell_type": "code",
   "execution_count": 47,
   "id": "9dea5d93-2603-4675-8c36-f77561a7169e",
   "metadata": {},
   "outputs": [
    {
     "data": {
      "text/plain": [
       "(3049,)"
      ]
     },
     "execution_count": 47,
     "metadata": {},
     "output_type": "execute_result"
    }
   ],
   "source": [
    "# cantidad de item_id únicos en DATAFRAME VENTAS\n",
    "df_eval['item_id'].unique().shape"
   ]
  },
  {
   "cell_type": "code",
   "execution_count": 48,
   "id": "66401967-4f8d-42c8-b1e7-b0d5bf0a8890",
   "metadata": {},
   "outputs": [
    {
     "data": {
      "text/plain": [
       "(3049,)"
      ]
     },
     "execution_count": 48,
     "metadata": {},
     "output_type": "execute_result"
    }
   ],
   "source": [
    "# cantidad de item_id unicos en dataframe precios\n",
    "df_price['item_id'].unique().shape"
   ]
  },
  {
   "cell_type": "code",
   "execution_count": null,
   "id": "933cd505-2761-4fde-87e2-d36dc67efed9",
   "metadata": {},
   "outputs": [],
   "source": []
  },
  {
   "cell_type": "markdown",
   "id": "30485d11-7c7a-4638-b39a-7f1a892bf311",
   "metadata": {},
   "source": [
    "#### 4.3 cat_id valores únicos"
   ]
  },
  {
   "cell_type": "code",
   "execution_count": 49,
   "id": "1a2eeb01-d092-44eb-a16d-1cfb0cc8739c",
   "metadata": {},
   "outputs": [
    {
     "data": {
      "text/plain": [
       "array(['HOBBIES', 'HOUSEHOLD', 'FOODS'], dtype=object)"
      ]
     },
     "execution_count": 49,
     "metadata": {},
     "output_type": "execute_result"
    }
   ],
   "source": [
    "df_eval['cat_id'].unique()"
   ]
  },
  {
   "cell_type": "code",
   "execution_count": 50,
   "id": "8c253a00-c40c-4075-b39d-6ca95d2b7601",
   "metadata": {},
   "outputs": [
    {
     "data": {
      "text/plain": [
       "(3,)"
      ]
     },
     "execution_count": 50,
     "metadata": {},
     "output_type": "execute_result"
    }
   ],
   "source": [
    "df_eval['cat_id'].unique().shape"
   ]
  },
  {
   "cell_type": "code",
   "execution_count": 51,
   "id": "3defc3a2-bd15-4d90-accf-eba2fe264bb3",
   "metadata": {},
   "outputs": [
    {
     "name": "stdout",
     "output_type": "stream",
     "text": [
      "Para la categoría: HOBBIES hay 565 items distintos\n",
      "Para la categoría: HOUSEHOLD hay 1047 items distintos\n",
      "Para la categoría: FOODS hay 1437 items distintos\n"
     ]
    }
   ],
   "source": [
    "# cantidad de productos en cada cat_id\n",
    "count = 0\n",
    "for cat_id in df_eval['cat_id'].unique().tolist():\n",
    "    df_aux = df_eval[df_eval['cat_id'] == cat_id]\n",
    "    count_item_id_distintos = df_aux['item_id'].unique().shape[0]\n",
    "    print(f'Para la categoría: {cat_id} hay {count_item_id_distintos} items distintos')\n",
    "    count += count_item_id_distintos"
   ]
  },
  {
   "cell_type": "code",
   "execution_count": 52,
   "id": "8c9ad924-a405-47b7-94a5-552cf550555c",
   "metadata": {},
   "outputs": [
    {
     "data": {
      "text/plain": [
       "3049"
      ]
     },
     "execution_count": 52,
     "metadata": {},
     "output_type": "execute_result"
    }
   ],
   "source": [
    "# la suma de todos item_id de cada categoría es igual a la cantidad de item_id visto en el total del dataframe\n",
    "count"
   ]
  },
  {
   "cell_type": "code",
   "execution_count": 53,
   "id": "9fe461c7-060e-4fd2-89dd-5900c2b9e966",
   "metadata": {},
   "outputs": [
    {
     "data": {
      "text/plain": [
       "(3049,)"
      ]
     },
     "execution_count": 53,
     "metadata": {},
     "output_type": "execute_result"
    }
   ],
   "source": [
    "# cantidad de item_id unicos en dataframe precios\n",
    "df_price['item_id'].unique().shape"
   ]
  },
  {
   "cell_type": "code",
   "execution_count": null,
   "id": "74d6961b-007a-4cd6-865c-ca56effae5f8",
   "metadata": {},
   "outputs": [],
   "source": []
  },
  {
   "cell_type": "markdown",
   "id": "e71a0b54-4a31-47fe-9aa7-bab8b1753e37",
   "metadata": {},
   "source": [
    "#### 4.4 \"dept_id\" valores únicos. \n",
    "Esta feature está solo en el dataframe de ventas"
   ]
  },
  {
   "cell_type": "code",
   "execution_count": 54,
   "id": "372dae80-e96a-4f47-834a-f6e8b6f9de5e",
   "metadata": {},
   "outputs": [
    {
     "data": {
      "text/plain": [
       "array(['HOBBIES_1', 'HOBBIES_2', 'HOUSEHOLD_1', 'HOUSEHOLD_2', 'FOODS_1',\n",
       "       'FOODS_2', 'FOODS_3'], dtype=object)"
      ]
     },
     "execution_count": 54,
     "metadata": {},
     "output_type": "execute_result"
    }
   ],
   "source": [
    "df_eval['dept_id'].unique()"
   ]
  },
  {
   "cell_type": "code",
   "execution_count": 55,
   "id": "ba710848-14eb-4be9-8fb8-e30b5ca731ea",
   "metadata": {},
   "outputs": [
    {
     "data": {
      "text/plain": [
       "(7,)"
      ]
     },
     "execution_count": 55,
     "metadata": {},
     "output_type": "execute_result"
    }
   ],
   "source": [
    "df_eval['dept_id'].unique().shape"
   ]
  },
  {
   "cell_type": "code",
   "execution_count": 56,
   "id": "1c0bf869-befa-4015-84ca-c5010278ed62",
   "metadata": {},
   "outputs": [
    {
     "name": "stdout",
     "output_type": "stream",
     "text": [
      "Para el departamento: HOBBIES_1 hay 416 items distintos\n",
      "Para el departamento: HOBBIES_2 hay 149 items distintos\n",
      "Para el departamento: HOUSEHOLD_1 hay 532 items distintos\n",
      "Para el departamento: HOUSEHOLD_2 hay 515 items distintos\n",
      "Para el departamento: FOODS_1 hay 216 items distintos\n",
      "Para el departamento: FOODS_2 hay 398 items distintos\n",
      "Para el departamento: FOODS_3 hay 823 items distintos\n"
     ]
    }
   ],
   "source": [
    "# para cada departamento, cuantos item_id distintos hay\n",
    "count = 0\n",
    "for dept_id in df_eval['dept_id'].unique().tolist():\n",
    "    df_aux = df_eval[df_eval['dept_id'] == dept_id]\n",
    "    count_item_id_distintos = df_aux['item_id'].unique().shape[0]\n",
    "    print(f'Para el departamento: {dept_id} hay {count_item_id_distintos} items distintos')\n",
    "    count += count_item_id_distintos"
   ]
  },
  {
   "cell_type": "code",
   "execution_count": 57,
   "id": "ac0a8046-b64e-4d44-8cb6-cc652b72bb36",
   "metadata": {},
   "outputs": [
    {
     "data": {
      "text/plain": [
       "3049"
      ]
     },
     "execution_count": 57,
     "metadata": {},
     "output_type": "execute_result"
    }
   ],
   "source": [
    "# suma de item_id distintos en cada dept_id\n",
    "count"
   ]
  },
  {
   "cell_type": "code",
   "execution_count": 58,
   "id": "73439e4a-a1d5-4c85-858c-11bde2c6499a",
   "metadata": {},
   "outputs": [
    {
     "data": {
      "text/plain": [
       "(3049,)"
      ]
     },
     "execution_count": 58,
     "metadata": {},
     "output_type": "execute_result"
    }
   ],
   "source": [
    "# cantidad de item_id distintos en total\n",
    "df_eval['item_id'].unique().shape"
   ]
  },
  {
   "cell_type": "markdown",
   "id": "2ec95577-2383-4827-ad25-925fc989c8f2",
   "metadata": {},
   "source": [
    "Lo más probable es que cada depth id tenga ciertos item_id distintos. Los cuales los item_id no se repiten en los depth_id ya que la suma cuadró exacta"
   ]
  },
  {
   "cell_type": "code",
   "execution_count": null,
   "id": "7d021cc3-062d-40f5-8087-7a6e1c7c6b70",
   "metadata": {},
   "outputs": [],
   "source": []
  },
  {
   "cell_type": "markdown",
   "id": "36cda706-8f28-4a37-88af-0c0a09067309",
   "metadata": {},
   "source": [
    "#### 4.5 state_id valores únicos"
   ]
  },
  {
   "cell_type": "code",
   "execution_count": 59,
   "id": "51b893af-20e1-4e4c-bb41-83dd88868711",
   "metadata": {},
   "outputs": [
    {
     "data": {
      "text/plain": [
       "array(['CA', 'TX', 'WI'], dtype=object)"
      ]
     },
     "execution_count": 59,
     "metadata": {},
     "output_type": "execute_result"
    }
   ],
   "source": [
    "df_eval['state_id'].unique()"
   ]
  },
  {
   "cell_type": "code",
   "execution_count": 60,
   "id": "152d0f98-d877-42dd-9840-6b88b2af254d",
   "metadata": {},
   "outputs": [
    {
     "name": "stdout",
     "output_type": "stream",
     "text": [
      "Para el state: CA hay 3049 items distintos\n",
      "Para el state: TX hay 3049 items distintos\n",
      "Para el state: WI hay 3049 items distintos\n"
     ]
    }
   ],
   "source": [
    "# cantidad de productos en cada state_id\n",
    "count = 0\n",
    "for state_id in df_eval['state_id'].unique().tolist():\n",
    "    df_aux = df_eval[df_eval['state_id'] == state_id]\n",
    "    count_item_id_distintos = df_aux['item_id'].unique().shape[0]\n",
    "    print(f'Para el state: {state_id} hay {count_item_id_distintos} items distintos')\n",
    "    count += count_item_id_distintos"
   ]
  },
  {
   "cell_type": "markdown",
   "id": "65acc0fd-845d-4814-8058-104ab7ca74f7",
   "metadata": {},
   "source": [
    "Aquí se puede ver que para cada estado, están TODOS los productos"
   ]
  },
  {
   "cell_type": "code",
   "execution_count": null,
   "id": "d85d8712-c794-45bf-9c72-36887c0e6e60",
   "metadata": {},
   "outputs": [],
   "source": []
  },
  {
   "cell_type": "markdown",
   "id": "abf850a6-6d9f-4c66-a046-757dd5330b2b",
   "metadata": {},
   "source": [
    "#### 4.6 Días de datos\n",
    "Ver cuantos días de datos hay y comparar con el df calendario. Recordar que dataframe precios está en semanas"
   ]
  },
  {
   "cell_type": "code",
   "execution_count": 61,
   "id": "ddca08d5-9240-4ac1-bf9f-2ecc337e2d2a",
   "metadata": {},
   "outputs": [
    {
     "data": {
      "text/plain": [
       "0    0\n",
       "1    0\n",
       "2    0\n",
       "Name: d_1, dtype: int64"
      ]
     },
     "execution_count": 61,
     "metadata": {},
     "output_type": "execute_result"
    }
   ],
   "source": [
    "# minimo día. Es una columna en los datos\n",
    "df_eval['d_1'].head(3)"
   ]
  },
  {
   "cell_type": "code",
   "execution_count": 62,
   "id": "817e46c3-d196-4fa6-8586-a20721bf19be",
   "metadata": {},
   "outputs": [
    {
     "data": {
      "text/plain": [
       "0    1\n",
       "1    0\n",
       "2    1\n",
       "Name: d_1941, dtype: int64"
      ]
     },
     "execution_count": 62,
     "metadata": {},
     "output_type": "execute_result"
    }
   ],
   "source": [
    "# maximo de día. Es una columna en los datos\n",
    "df_eval['d_1941'].head(3)"
   ]
  },
  {
   "cell_type": "code",
   "execution_count": 63,
   "id": "3e2f3da3-3cb3-462a-885b-c04a080f0663",
   "metadata": {},
   "outputs": [
    {
     "data": {
      "text/plain": [
       "'d_1'"
      ]
     },
     "execution_count": 63,
     "metadata": {},
     "output_type": "execute_result"
    }
   ],
   "source": [
    "# en el dataframe calendario. Día mínimo\n",
    "df_cal['d'].min()"
   ]
  },
  {
   "cell_type": "code",
   "execution_count": 64,
   "id": "cb39b47e-8c6c-402c-894b-66b0a3969f56",
   "metadata": {},
   "outputs": [
    {
     "data": {
      "text/plain": [
       "array(['d_1969'], dtype=object)"
      ]
     },
     "execution_count": 64,
     "metadata": {},
     "output_type": "execute_result"
    }
   ],
   "source": [
    "# en el dataframe calendario. Día máximo\n",
    "# df_cal['d'].max()\n",
    "df_cal.tail(1)['d'].values"
   ]
  },
  {
   "cell_type": "markdown",
   "id": "a37ed160-8123-42cb-88ac-3e35a63ed03a",
   "metadata": {},
   "source": [
    "##### Se puede observar que el calendario tiene más días (d_1969) que el dataframe de ventas (d_1941)"
   ]
  },
  {
   "cell_type": "code",
   "execution_count": 65,
   "id": "56491153-eeec-4972-9392-cde42b4aa719",
   "metadata": {},
   "outputs": [
    {
     "data": {
      "text/plain": [
       "28"
      ]
     },
     "execution_count": 65,
     "metadata": {},
     "output_type": "execute_result"
    }
   ],
   "source": [
    "# hay 28 días de calendario que no están en los datos. Los 28 días que se tienen que hacer el forecast a futuro\n",
    "1969 - 1941"
   ]
  },
  {
   "cell_type": "markdown",
   "id": "e4156375-2675-4f37-babe-668d5900436e",
   "metadata": {},
   "source": [
    "#### 4.7 Semanas de datos.\n",
    "Ahora comparar las semanas, esto para revisar si el dataframe de los precios también tiene 4 semanas más de datos que los datos de ventas. Utilizar el id_semana_año porque los precios están en frecuencia granularidad semanal"
   ]
  },
  {
   "cell_type": "code",
   "execution_count": 66,
   "id": "f9ed7f6c-53c9-4393-9eaa-6f5f78666b72",
   "metadata": {},
   "outputs": [
    {
     "name": "stdout",
     "output_type": "stream",
     "text": [
      "fecha dataframe precios\n",
      "fecha minima:  11101\n",
      "fecha maxima:  11621\n",
      "cantidad fechas únicas:  (282,)\n",
      "fecha dataframe CALENDARIO\n",
      "fecha minima:  11101\n",
      "fecha maxima:  11621\n",
      "cantidad fechas únicas:  (282,)\n"
     ]
    }
   ],
   "source": [
    "# mostrar fechas semana del dataframe precios\n",
    "print('fecha dataframe precios')\n",
    "print('fecha minima: ', df_price['wm_yr_wk'].min())\n",
    "print('fecha maxima: ', df_price['wm_yr_wk'].max())\n",
    "print('cantidad fechas únicas: ', df_price['wm_yr_wk'].unique().shape)\n",
    "\n",
    "# mostrar fechas semana del dataframe calendario \n",
    "print('fecha dataframe CALENDARIO')\n",
    "print('fecha minima: ', df_cal['wm_yr_wk'].min())\n",
    "print('fecha maxima: ', df_cal['wm_yr_wk'].max())\n",
    "print('cantidad fechas únicas: ', df_cal['wm_yr_wk'].unique().shape)"
   ]
  },
  {
   "cell_type": "code",
   "execution_count": 67,
   "id": "2560fb23-76ad-4834-8a49-e1d59c4ca750",
   "metadata": {},
   "outputs": [],
   "source": [
    "# mostrar fechas semanas del dataframe de ventas\n",
    "# SE PUEDE VER QUE EL DATAFRAME DE VENTAS NO CONTIENE INFO DE LAS SEMANAS\n",
    "# LA FORMA DE OBTENER ESOS DATOS ES CRUZANDO LA INFO CON LOS DATOS DE CALENDARIO que contiene día y semana"
   ]
  },
  {
   "cell_type": "code",
   "execution_count": 68,
   "id": "d05808ba-30fe-41bd-a67e-67f35652237a",
   "metadata": {},
   "outputs": [
    {
     "data": {
      "text/plain": [
       "1940    11617\n",
       "Name: wm_yr_wk, dtype: int64"
      ]
     },
     "execution_count": 68,
     "metadata": {},
     "output_type": "execute_result"
    }
   ],
   "source": [
    "# se puede observar que el último día que están en los datos de venta corresponde al ID wm_yr_wk con valor 11617\n",
    "df_cal[df_cal['d'] == 'd_1941']['wm_yr_wk']\n",
    "\n",
    "# el ultimo valor es 11621, por lo que faltan 4 semanas. Justamente las semanas para hacer la predicción"
   ]
  },
  {
   "cell_type": "code",
   "execution_count": null,
   "id": "ede9e1d5-fc37-4001-aa2c-7cd9a9a2ffd2",
   "metadata": {},
   "outputs": [],
   "source": []
  },
  {
   "cell_type": "markdown",
   "id": "394b398c-f855-4001-b002-499128dc80d4",
   "metadata": {},
   "source": [
    "#### 5. Dataset train validation\n",
    "ESTE DATASET DEBE DE SER EL QUE CONTIENE LA INFO DE VENTAS DE LAS 4 SEMANAS.\n",
    "ESTA INFO ES LA QUE SE DEBE DE PREDECIR USANDO LAS VENTAS DEL PASADO Y EL CONOCIMIENTO DE LAS VARIABLES EXÓGENAS (calendario y precios)"
   ]
  },
  {
   "cell_type": "code",
   "execution_count": 69,
   "id": "5f63a95c-da06-484f-a37e-039dd1b8b7ff",
   "metadata": {},
   "outputs": [
    {
     "data": {
      "text/plain": [
       "(30490, 1919)"
      ]
     },
     "execution_count": 69,
     "metadata": {},
     "output_type": "execute_result"
    }
   ],
   "source": [
    "# tamaño df validation\n",
    "df_validation.shape"
   ]
  },
  {
   "cell_type": "code",
   "execution_count": 70,
   "id": "9f211c7b-c123-4c7f-9b88-07915d0940a9",
   "metadata": {},
   "outputs": [
    {
     "data": {
      "text/plain": [
       "(30490, 1947)"
      ]
     },
     "execution_count": 70,
     "metadata": {},
     "output_type": "execute_result"
    }
   ],
   "source": [
    "# tamaño df eval\n",
    "df_eval.shape"
   ]
  },
  {
   "cell_type": "markdown",
   "id": "93363776-118f-4734-bbd7-f9cf15556e4a",
   "metadata": {},
   "source": [
    "##### Se puede ver que ambos dataframes tienen la mismas filas y la cantidad de columnas que faltan son 28, correspondientes a los 28 días de forizonte de forecast"
   ]
  },
  {
   "cell_type": "code",
   "execution_count": 71,
   "id": "7396dd90-3045-4929-89a9-8ca0bda9887f",
   "metadata": {},
   "outputs": [
    {
     "data": {
      "text/plain": [
       "28"
      ]
     },
     "execution_count": 71,
     "metadata": {},
     "output_type": "execute_result"
    }
   ],
   "source": [
    "df_eval.shape[1] - df_validation.shape[1]"
   ]
  },
  {
   "cell_type": "markdown",
   "id": "7a1ad4c4-be8e-4506-b471-f9bb41be17a9",
   "metadata": {},
   "source": [
    "#### Se puede concluir\n",
    "- Que el dataset con el nombre \"validation\" es el que se debería utilizar para entrenar\n",
    "- Luego el dataset con el nombre \"evaluation\" tiene 28 días extra de ventas para utilizar como datos de validacion\n",
    "- Luego el dataset de \"precios\" y \"calendario\" tienen 28 días más que el dataset \"evaluation\" por lo que me imagino que al momento de la competencia se utilizan estos 28 días para calcular el entregable. Y el dataset validation se utilizaba para entrenar y el primer delta de 28 días era el dataset de validación para tuneo de hiperparámetros, etc"
   ]
  },
  {
   "cell_type": "markdown",
   "id": "040ae811-dae7-498e-b3c5-e6ff732fe651",
   "metadata": {},
   "source": [
    "### MODELAMIENTO\n",
    "- Como en los 28 días adicionales que están en los datos \"precios\" y \"calendario\" no hay datos de ventas, por lo que esos datos no se utilizaran\n",
    "- Para entrenamiento utilizar las fechas que están en el dataset \"validation\"\n",
    "- Para test se utilizan los 28 días adicionales que están en el dataset \"evaluation\""
   ]
  },
  {
   "cell_type": "code",
   "execution_count": null,
   "id": "7c695680-150c-4d59-8589-d61ed7d0954d",
   "metadata": {},
   "outputs": [],
   "source": []
  },
  {
   "cell_type": "code",
   "execution_count": null,
   "id": "bda281e3-a13c-4cda-9dd0-47c12972320d",
   "metadata": {},
   "outputs": [],
   "source": []
  }
 ],
 "metadata": {
  "kernelspec": {
   "display_name": "Python 3 (ipykernel)",
   "language": "python",
   "name": "python3"
  },
  "language_info": {
   "codemirror_mode": {
    "name": "ipython",
    "version": 3
   },
   "file_extension": ".py",
   "mimetype": "text/x-python",
   "name": "python",
   "nbconvert_exporter": "python",
   "pygments_lexer": "ipython3",
   "version": "3.11.7"
  }
 },
 "nbformat": 4,
 "nbformat_minor": 5
}

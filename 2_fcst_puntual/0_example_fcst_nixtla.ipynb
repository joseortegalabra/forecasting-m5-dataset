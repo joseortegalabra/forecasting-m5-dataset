{
 "cells": [
  {
   "cell_type": "markdown",
   "id": "6437aa96-bd30-4a67-87a4-eb7d3c3cd1a3",
   "metadata": {},
   "source": [
    "# Example fcst Nixtla\n",
    "Se utiliza el fcst del template del package nixtla porque es bastante simple de realizar ya que se entrena solo un modelo para hacer todos los forecasts y no realiza muchas transformaciones a los datos\n",
    "\n",
    "Fuente: SOURCE: https://www.kaggle.com/code/lemuz90/m5-mlforecast-eval"
   ]
  },
  {
   "cell_type": "code",
   "execution_count": 1,
   "id": "0fbfc137-4680-4b76-b9ea-f24f438ceb12",
   "metadata": {},
   "outputs": [],
   "source": [
    "import pandas as pd\n",
    "import pickle\n",
    "import numpy as np"
   ]
  },
  {
   "cell_type": "code",
   "execution_count": 2,
   "id": "490586b1-de96-4a17-9334-d17952b434ab",
   "metadata": {},
   "outputs": [
    {
     "name": "stdout",
     "output_type": "stream",
     "text": [
      "root path:  /Users/joseortega/Documents/GitHub/forecasting-m5-dataset\n"
     ]
    }
   ],
   "source": [
    "import os\n",
    "# set path root of repo\n",
    "actual_path = os.path.abspath(os.getcwd())\n",
    "list_root_path = actual_path.split('/')[:-1]\n",
    "root_path = '/'.join(list_root_path)\n",
    "os.chdir(root_path)\n",
    "print('root path: ', root_path)"
   ]
  },
  {
   "cell_type": "code",
   "execution_count": null,
   "id": "c638db8f-4bd8-4d58-89a0-57c79b4e746f",
   "metadata": {},
   "outputs": [],
   "source": []
  },
  {
   "cell_type": "markdown",
   "id": "2c93bd7a-0d6d-43ef-83c2-5a62861109f6",
   "metadata": {},
   "source": [
    "### 1. Read raw files dtype corrrect"
   ]
  },
  {
   "cell_type": "code",
   "execution_count": 3,
   "id": "83a92d3d-871c-4972-8567-98b38af977dd",
   "metadata": {},
   "outputs": [],
   "source": [
    "folder_data = 'data/data_input_dtype/'\n",
    "df_cal = pd.read_pickle(folder_data + 'calendar.pkl')\n",
    "df_sales = pd.read_pickle(folder_data + 'sales_train_evaluation.pkl')\n",
    "df_price = pd.read_pickle(folder_data + 'sell_prices.pkl')\n",
    "df_sample_output = pd.read_pickle(folder_data + 'sample_submission.pkl')"
   ]
  },
  {
   "cell_type": "code",
   "execution_count": 4,
   "id": "557979da-5d80-4a29-a1f4-212aea48dd13",
   "metadata": {},
   "outputs": [
    {
     "data": {
      "text/html": [
       "<div>\n",
       "<style scoped>\n",
       "    .dataframe tbody tr th:only-of-type {\n",
       "        vertical-align: middle;\n",
       "    }\n",
       "\n",
       "    .dataframe tbody tr th {\n",
       "        vertical-align: top;\n",
       "    }\n",
       "\n",
       "    .dataframe thead th {\n",
       "        text-align: right;\n",
       "    }\n",
       "</style>\n",
       "<table border=\"1\" class=\"dataframe\">\n",
       "  <thead>\n",
       "    <tr style=\"text-align: right;\">\n",
       "      <th></th>\n",
       "      <th>date</th>\n",
       "      <th>wm_yr_wk</th>\n",
       "      <th>weekday</th>\n",
       "      <th>wday</th>\n",
       "      <th>month</th>\n",
       "      <th>year</th>\n",
       "      <th>d</th>\n",
       "      <th>event_name_1</th>\n",
       "      <th>event_type_1</th>\n",
       "      <th>event_name_2</th>\n",
       "      <th>event_type_2</th>\n",
       "      <th>snap_CA</th>\n",
       "      <th>snap_TX</th>\n",
       "      <th>snap_WI</th>\n",
       "    </tr>\n",
       "  </thead>\n",
       "  <tbody>\n",
       "    <tr>\n",
       "      <th>0</th>\n",
       "      <td>2011-01-29</td>\n",
       "      <td>11101</td>\n",
       "      <td>Saturday</td>\n",
       "      <td>1</td>\n",
       "      <td>1</td>\n",
       "      <td>2011</td>\n",
       "      <td>d_1</td>\n",
       "      <td>nan</td>\n",
       "      <td>nan</td>\n",
       "      <td>nan</td>\n",
       "      <td>nan</td>\n",
       "      <td>0</td>\n",
       "      <td>0</td>\n",
       "      <td>0</td>\n",
       "    </tr>\n",
       "    <tr>\n",
       "      <th>1</th>\n",
       "      <td>2011-01-30</td>\n",
       "      <td>11101</td>\n",
       "      <td>Sunday</td>\n",
       "      <td>2</td>\n",
       "      <td>1</td>\n",
       "      <td>2011</td>\n",
       "      <td>d_2</td>\n",
       "      <td>nan</td>\n",
       "      <td>nan</td>\n",
       "      <td>nan</td>\n",
       "      <td>nan</td>\n",
       "      <td>0</td>\n",
       "      <td>0</td>\n",
       "      <td>0</td>\n",
       "    </tr>\n",
       "    <tr>\n",
       "      <th>2</th>\n",
       "      <td>2011-01-31</td>\n",
       "      <td>11101</td>\n",
       "      <td>Monday</td>\n",
       "      <td>3</td>\n",
       "      <td>1</td>\n",
       "      <td>2011</td>\n",
       "      <td>d_3</td>\n",
       "      <td>nan</td>\n",
       "      <td>nan</td>\n",
       "      <td>nan</td>\n",
       "      <td>nan</td>\n",
       "      <td>0</td>\n",
       "      <td>0</td>\n",
       "      <td>0</td>\n",
       "    </tr>\n",
       "  </tbody>\n",
       "</table>\n",
       "</div>"
      ],
      "text/plain": [
       "        date  wm_yr_wk   weekday  wday  month  year    d event_name_1  \\\n",
       "0 2011-01-29     11101  Saturday     1      1  2011  d_1          nan   \n",
       "1 2011-01-30     11101    Sunday     2      1  2011  d_2          nan   \n",
       "2 2011-01-31     11101    Monday     3      1  2011  d_3          nan   \n",
       "\n",
       "  event_type_1 event_name_2 event_type_2  snap_CA  snap_TX  snap_WI  \n",
       "0          nan          nan          nan        0        0        0  \n",
       "1          nan          nan          nan        0        0        0  \n",
       "2          nan          nan          nan        0        0        0  "
      ]
     },
     "execution_count": 4,
     "metadata": {},
     "output_type": "execute_result"
    }
   ],
   "source": [
    "df_cal.head(3)"
   ]
  },
  {
   "cell_type": "code",
   "execution_count": 5,
   "id": "c86b3ebc-f682-4081-a819-059fd3729b6b",
   "metadata": {},
   "outputs": [
    {
     "data": {
      "text/html": [
       "<div>\n",
       "<style scoped>\n",
       "    .dataframe tbody tr th:only-of-type {\n",
       "        vertical-align: middle;\n",
       "    }\n",
       "\n",
       "    .dataframe tbody tr th {\n",
       "        vertical-align: top;\n",
       "    }\n",
       "\n",
       "    .dataframe thead th {\n",
       "        text-align: right;\n",
       "    }\n",
       "</style>\n",
       "<table border=\"1\" class=\"dataframe\">\n",
       "  <thead>\n",
       "    <tr style=\"text-align: right;\">\n",
       "      <th></th>\n",
       "      <th>id</th>\n",
       "      <th>item_id</th>\n",
       "      <th>dept_id</th>\n",
       "      <th>cat_id</th>\n",
       "      <th>store_id</th>\n",
       "      <th>state_id</th>\n",
       "      <th>d_1</th>\n",
       "      <th>d_2</th>\n",
       "      <th>d_3</th>\n",
       "      <th>d_4</th>\n",
       "      <th>...</th>\n",
       "      <th>d_1932</th>\n",
       "      <th>d_1933</th>\n",
       "      <th>d_1934</th>\n",
       "      <th>d_1935</th>\n",
       "      <th>d_1936</th>\n",
       "      <th>d_1937</th>\n",
       "      <th>d_1938</th>\n",
       "      <th>d_1939</th>\n",
       "      <th>d_1940</th>\n",
       "      <th>d_1941</th>\n",
       "    </tr>\n",
       "  </thead>\n",
       "  <tbody>\n",
       "    <tr>\n",
       "      <th>0</th>\n",
       "      <td>HOBBIES_1_001_CA_1_evaluation</td>\n",
       "      <td>HOBBIES_1_001</td>\n",
       "      <td>HOBBIES_1</td>\n",
       "      <td>HOBBIES</td>\n",
       "      <td>CA_1</td>\n",
       "      <td>CA</td>\n",
       "      <td>0.0</td>\n",
       "      <td>0.0</td>\n",
       "      <td>0.0</td>\n",
       "      <td>0.0</td>\n",
       "      <td>...</td>\n",
       "      <td>2.0</td>\n",
       "      <td>4.0</td>\n",
       "      <td>0.0</td>\n",
       "      <td>0.0</td>\n",
       "      <td>0.0</td>\n",
       "      <td>0.0</td>\n",
       "      <td>3.0</td>\n",
       "      <td>3.0</td>\n",
       "      <td>0.0</td>\n",
       "      <td>1.0</td>\n",
       "    </tr>\n",
       "    <tr>\n",
       "      <th>1</th>\n",
       "      <td>HOBBIES_1_002_CA_1_evaluation</td>\n",
       "      <td>HOBBIES_1_002</td>\n",
       "      <td>HOBBIES_1</td>\n",
       "      <td>HOBBIES</td>\n",
       "      <td>CA_1</td>\n",
       "      <td>CA</td>\n",
       "      <td>0.0</td>\n",
       "      <td>0.0</td>\n",
       "      <td>0.0</td>\n",
       "      <td>0.0</td>\n",
       "      <td>...</td>\n",
       "      <td>0.0</td>\n",
       "      <td>1.0</td>\n",
       "      <td>2.0</td>\n",
       "      <td>1.0</td>\n",
       "      <td>1.0</td>\n",
       "      <td>0.0</td>\n",
       "      <td>0.0</td>\n",
       "      <td>0.0</td>\n",
       "      <td>0.0</td>\n",
       "      <td>0.0</td>\n",
       "    </tr>\n",
       "    <tr>\n",
       "      <th>2</th>\n",
       "      <td>HOBBIES_1_003_CA_1_evaluation</td>\n",
       "      <td>HOBBIES_1_003</td>\n",
       "      <td>HOBBIES_1</td>\n",
       "      <td>HOBBIES</td>\n",
       "      <td>CA_1</td>\n",
       "      <td>CA</td>\n",
       "      <td>0.0</td>\n",
       "      <td>0.0</td>\n",
       "      <td>0.0</td>\n",
       "      <td>0.0</td>\n",
       "      <td>...</td>\n",
       "      <td>1.0</td>\n",
       "      <td>0.0</td>\n",
       "      <td>2.0</td>\n",
       "      <td>0.0</td>\n",
       "      <td>0.0</td>\n",
       "      <td>0.0</td>\n",
       "      <td>2.0</td>\n",
       "      <td>3.0</td>\n",
       "      <td>0.0</td>\n",
       "      <td>1.0</td>\n",
       "    </tr>\n",
       "  </tbody>\n",
       "</table>\n",
       "<p>3 rows × 1947 columns</p>\n",
       "</div>"
      ],
      "text/plain": [
       "                              id        item_id    dept_id   cat_id store_id  \\\n",
       "0  HOBBIES_1_001_CA_1_evaluation  HOBBIES_1_001  HOBBIES_1  HOBBIES     CA_1   \n",
       "1  HOBBIES_1_002_CA_1_evaluation  HOBBIES_1_002  HOBBIES_1  HOBBIES     CA_1   \n",
       "2  HOBBIES_1_003_CA_1_evaluation  HOBBIES_1_003  HOBBIES_1  HOBBIES     CA_1   \n",
       "\n",
       "  state_id  d_1  d_2  d_3  d_4  ...  d_1932  d_1933  d_1934  d_1935  d_1936  \\\n",
       "0       CA  0.0  0.0  0.0  0.0  ...     2.0     4.0     0.0     0.0     0.0   \n",
       "1       CA  0.0  0.0  0.0  0.0  ...     0.0     1.0     2.0     1.0     1.0   \n",
       "2       CA  0.0  0.0  0.0  0.0  ...     1.0     0.0     2.0     0.0     0.0   \n",
       "\n",
       "   d_1937  d_1938  d_1939  d_1940  d_1941  \n",
       "0     0.0     3.0     3.0     0.0     1.0  \n",
       "1     0.0     0.0     0.0     0.0     0.0  \n",
       "2     0.0     2.0     3.0     0.0     1.0  \n",
       "\n",
       "[3 rows x 1947 columns]"
      ]
     },
     "execution_count": 5,
     "metadata": {},
     "output_type": "execute_result"
    }
   ],
   "source": [
    "df_sales.head(3)"
   ]
  },
  {
   "cell_type": "code",
   "execution_count": 6,
   "id": "e0b12fd7-2edd-4259-846c-1d82ead3d739",
   "metadata": {},
   "outputs": [
    {
     "data": {
      "text/html": [
       "<div>\n",
       "<style scoped>\n",
       "    .dataframe tbody tr th:only-of-type {\n",
       "        vertical-align: middle;\n",
       "    }\n",
       "\n",
       "    .dataframe tbody tr th {\n",
       "        vertical-align: top;\n",
       "    }\n",
       "\n",
       "    .dataframe thead th {\n",
       "        text-align: right;\n",
       "    }\n",
       "</style>\n",
       "<table border=\"1\" class=\"dataframe\">\n",
       "  <thead>\n",
       "    <tr style=\"text-align: right;\">\n",
       "      <th></th>\n",
       "      <th>store_id</th>\n",
       "      <th>item_id</th>\n",
       "      <th>wm_yr_wk</th>\n",
       "      <th>sell_price</th>\n",
       "    </tr>\n",
       "  </thead>\n",
       "  <tbody>\n",
       "    <tr>\n",
       "      <th>0</th>\n",
       "      <td>CA_1</td>\n",
       "      <td>HOBBIES_1_001</td>\n",
       "      <td>11325</td>\n",
       "      <td>9.58</td>\n",
       "    </tr>\n",
       "    <tr>\n",
       "      <th>1</th>\n",
       "      <td>CA_1</td>\n",
       "      <td>HOBBIES_1_001</td>\n",
       "      <td>11326</td>\n",
       "      <td>9.58</td>\n",
       "    </tr>\n",
       "    <tr>\n",
       "      <th>2</th>\n",
       "      <td>CA_1</td>\n",
       "      <td>HOBBIES_1_001</td>\n",
       "      <td>11327</td>\n",
       "      <td>8.26</td>\n",
       "    </tr>\n",
       "  </tbody>\n",
       "</table>\n",
       "</div>"
      ],
      "text/plain": [
       "  store_id        item_id  wm_yr_wk  sell_price\n",
       "0     CA_1  HOBBIES_1_001     11325        9.58\n",
       "1     CA_1  HOBBIES_1_001     11326        9.58\n",
       "2     CA_1  HOBBIES_1_001     11327        8.26"
      ]
     },
     "execution_count": 6,
     "metadata": {},
     "output_type": "execute_result"
    }
   ],
   "source": [
    "df_price.head(3)"
   ]
  },
  {
   "cell_type": "code",
   "execution_count": 7,
   "id": "e622bdd9-b21a-4665-a6a4-c270f70acc08",
   "metadata": {},
   "outputs": [
    {
     "data": {
      "text/html": [
       "<div>\n",
       "<style scoped>\n",
       "    .dataframe tbody tr th:only-of-type {\n",
       "        vertical-align: middle;\n",
       "    }\n",
       "\n",
       "    .dataframe tbody tr th {\n",
       "        vertical-align: top;\n",
       "    }\n",
       "\n",
       "    .dataframe thead th {\n",
       "        text-align: right;\n",
       "    }\n",
       "</style>\n",
       "<table border=\"1\" class=\"dataframe\">\n",
       "  <thead>\n",
       "    <tr style=\"text-align: right;\">\n",
       "      <th></th>\n",
       "      <th>id</th>\n",
       "      <th>F1</th>\n",
       "      <th>F2</th>\n",
       "      <th>F3</th>\n",
       "      <th>F4</th>\n",
       "      <th>F5</th>\n",
       "      <th>F6</th>\n",
       "      <th>F7</th>\n",
       "      <th>F8</th>\n",
       "      <th>F9</th>\n",
       "      <th>...</th>\n",
       "      <th>F19</th>\n",
       "      <th>F20</th>\n",
       "      <th>F21</th>\n",
       "      <th>F22</th>\n",
       "      <th>F23</th>\n",
       "      <th>F24</th>\n",
       "      <th>F25</th>\n",
       "      <th>F26</th>\n",
       "      <th>F27</th>\n",
       "      <th>F28</th>\n",
       "    </tr>\n",
       "  </thead>\n",
       "  <tbody>\n",
       "    <tr>\n",
       "      <th>0</th>\n",
       "      <td>HOBBIES_1_001_CA_1_validation</td>\n",
       "      <td>0</td>\n",
       "      <td>0</td>\n",
       "      <td>0</td>\n",
       "      <td>0</td>\n",
       "      <td>0</td>\n",
       "      <td>0</td>\n",
       "      <td>0</td>\n",
       "      <td>0</td>\n",
       "      <td>0</td>\n",
       "      <td>...</td>\n",
       "      <td>0</td>\n",
       "      <td>0</td>\n",
       "      <td>0</td>\n",
       "      <td>0</td>\n",
       "      <td>0</td>\n",
       "      <td>0</td>\n",
       "      <td>0</td>\n",
       "      <td>0</td>\n",
       "      <td>0</td>\n",
       "      <td>0</td>\n",
       "    </tr>\n",
       "    <tr>\n",
       "      <th>1</th>\n",
       "      <td>HOBBIES_1_002_CA_1_validation</td>\n",
       "      <td>0</td>\n",
       "      <td>0</td>\n",
       "      <td>0</td>\n",
       "      <td>0</td>\n",
       "      <td>0</td>\n",
       "      <td>0</td>\n",
       "      <td>0</td>\n",
       "      <td>0</td>\n",
       "      <td>0</td>\n",
       "      <td>...</td>\n",
       "      <td>0</td>\n",
       "      <td>0</td>\n",
       "      <td>0</td>\n",
       "      <td>0</td>\n",
       "      <td>0</td>\n",
       "      <td>0</td>\n",
       "      <td>0</td>\n",
       "      <td>0</td>\n",
       "      <td>0</td>\n",
       "      <td>0</td>\n",
       "    </tr>\n",
       "    <tr>\n",
       "      <th>2</th>\n",
       "      <td>HOBBIES_1_003_CA_1_validation</td>\n",
       "      <td>0</td>\n",
       "      <td>0</td>\n",
       "      <td>0</td>\n",
       "      <td>0</td>\n",
       "      <td>0</td>\n",
       "      <td>0</td>\n",
       "      <td>0</td>\n",
       "      <td>0</td>\n",
       "      <td>0</td>\n",
       "      <td>...</td>\n",
       "      <td>0</td>\n",
       "      <td>0</td>\n",
       "      <td>0</td>\n",
       "      <td>0</td>\n",
       "      <td>0</td>\n",
       "      <td>0</td>\n",
       "      <td>0</td>\n",
       "      <td>0</td>\n",
       "      <td>0</td>\n",
       "      <td>0</td>\n",
       "    </tr>\n",
       "  </tbody>\n",
       "</table>\n",
       "<p>3 rows × 29 columns</p>\n",
       "</div>"
      ],
      "text/plain": [
       "                              id  F1  F2  F3  F4  F5  F6  F7  F8  F9  ...  \\\n",
       "0  HOBBIES_1_001_CA_1_validation   0   0   0   0   0   0   0   0   0  ...   \n",
       "1  HOBBIES_1_002_CA_1_validation   0   0   0   0   0   0   0   0   0  ...   \n",
       "2  HOBBIES_1_003_CA_1_validation   0   0   0   0   0   0   0   0   0  ...   \n",
       "\n",
       "   F19  F20  F21  F22  F23  F24  F25  F26  F27  F28  \n",
       "0    0    0    0    0    0    0    0    0    0    0  \n",
       "1    0    0    0    0    0    0    0    0    0    0  \n",
       "2    0    0    0    0    0    0    0    0    0    0  \n",
       "\n",
       "[3 rows x 29 columns]"
      ]
     },
     "execution_count": 7,
     "metadata": {},
     "output_type": "execute_result"
    }
   ],
   "source": [
    "df_sample_output.head(3)"
   ]
  },
  {
   "cell_type": "code",
   "execution_count": null,
   "id": "633334ee-cb7e-4f6f-9ee0-df973a756565",
   "metadata": {},
   "outputs": [],
   "source": []
  },
  {
   "cell_type": "code",
   "execution_count": null,
   "id": "c19343fc-08a1-4222-a72a-d310904be72a",
   "metadata": {},
   "outputs": [],
   "source": []
  },
  {
   "cell_type": "markdown",
   "id": "9d05f168-0fa6-4dd5-a565-42460b9b766d",
   "metadata": {},
   "source": [
    "### 2. Transformar datos a formato input de fcst nixtla (melt)"
   ]
  },
  {
   "cell_type": "code",
   "execution_count": 8,
   "id": "e8d94ccb-0668-4f93-b03e-10938807214e",
   "metadata": {},
   "outputs": [],
   "source": [
    "# transformar las ventas a formato que necesita nixtla. Todas unidades en una columna\n",
    "# MELT dataframe ID_SERIE, TIMESTAMP, VALUE\n",
    "df_sales_long = df_sales.melt(\n",
    "    id_vars=['id', 'item_id', 'dept_id', 'cat_id', 'store_id', 'state_id'],\n",
    "    var_name='d',\n",
    "    value_name='y'\n",
    ")"
   ]
  },
  {
   "cell_type": "code",
   "execution_count": null,
   "id": "f8012e4b-4e96-4554-81f1-b045593c235b",
   "metadata": {},
   "outputs": [],
   "source": []
  },
  {
   "cell_type": "markdown",
   "id": "9bae6b59-ab6a-42ae-b2e1-51116546d0c3",
   "metadata": {},
   "source": [
    "### 3. Append calendario con datos ventas"
   ]
  },
  {
   "cell_type": "code",
   "execution_count": 9,
   "id": "9b7203c4-b747-4111-9dd2-8401b217f2d8",
   "metadata": {},
   "outputs": [
    {
     "name": "stdout",
     "output_type": "stream",
     "text": [
      "59181090\n"
     ]
    }
   ],
   "source": [
    "print(df_sales_long.shape[0]) # tamaño original"
   ]
  },
  {
   "cell_type": "code",
   "execution_count": 10,
   "id": "f9d914dd-61e1-4d3a-89c9-3c0ddb15494b",
   "metadata": {},
   "outputs": [],
   "source": [
    "# eliminar columnas de df calender\n",
    "df_cal.drop(columns = ['weekday', 'wday', 'month', 'year'], inplace = True)"
   ]
  },
  {
   "cell_type": "code",
   "execution_count": 11,
   "id": "95458414-b299-4099-97de-9cd90f7acc41",
   "metadata": {},
   "outputs": [],
   "source": [
    "# columa día transformar a formato de columna día del dataframe calendario y luego hacer merge de ambos df\n",
    "df_sales_long['d'] = df_sales_long['d'].astype(df_cal.d.dtype)\n",
    "df_sales_long = df_sales_long.merge(df_cal, on=['d'])"
   ]
  },
  {
   "cell_type": "code",
   "execution_count": 23,
   "id": "2465d235-256f-456a-b256-c63e5e103d47",
   "metadata": {},
   "outputs": [
    {
     "data": {
      "text/plain": [
       "[Timestamp('2011-01-29 00:00:00'),\n",
       " Timestamp('2011-01-30 00:00:00'),\n",
       " Timestamp('2011-01-31 00:00:00'),\n",
       " Timestamp('2011-02-01 00:00:00'),\n",
       " Timestamp('2011-02-02 00:00:00')]"
      ]
     },
     "execution_count": 23,
     "metadata": {},
     "output_type": "execute_result"
    }
   ],
   "source": [
    "# obtener una lista con timestamp de todas las fechas en los datos. Hasta día 1941\n",
    "dates = sorted(df_sales_long['date'].unique())\n",
    "dates[0:5]"
   ]
  },
  {
   "cell_type": "code",
   "execution_count": 24,
   "id": "79a02963-f140-46b5-a86c-64995784f767",
   "metadata": {},
   "outputs": [],
   "source": [
    "# ordenar dataframe\n",
    "df_sales_long = df_sales_long.sort_values(['id', 'date'])"
   ]
  },
  {
   "cell_type": "markdown",
   "id": "dfb45840-31d1-4d5c-ad6d-f6c054be199b",
   "metadata": {},
   "source": [
    "show informativo"
   ]
  },
  {
   "cell_type": "code",
   "execution_count": 26,
   "id": "a5a77517-01f6-4908-8ec7-9a941b4317b1",
   "metadata": {},
   "outputs": [
    {
     "data": {
      "text/html": [
       "<div>\n",
       "<style scoped>\n",
       "    .dataframe tbody tr th:only-of-type {\n",
       "        vertical-align: middle;\n",
       "    }\n",
       "\n",
       "    .dataframe tbody tr th {\n",
       "        vertical-align: top;\n",
       "    }\n",
       "\n",
       "    .dataframe thead th {\n",
       "        text-align: right;\n",
       "    }\n",
       "</style>\n",
       "<table border=\"1\" class=\"dataframe\">\n",
       "  <thead>\n",
       "    <tr style=\"text-align: right;\">\n",
       "      <th></th>\n",
       "      <th>id</th>\n",
       "      <th>item_id</th>\n",
       "      <th>dept_id</th>\n",
       "      <th>cat_id</th>\n",
       "      <th>store_id</th>\n",
       "      <th>state_id</th>\n",
       "      <th>d</th>\n",
       "      <th>y</th>\n",
       "      <th>date</th>\n",
       "      <th>wm_yr_wk</th>\n",
       "      <th>event_name_1</th>\n",
       "      <th>event_type_1</th>\n",
       "      <th>event_name_2</th>\n",
       "      <th>event_type_2</th>\n",
       "      <th>snap_CA</th>\n",
       "      <th>snap_TX</th>\n",
       "      <th>snap_WI</th>\n",
       "    </tr>\n",
       "  </thead>\n",
       "  <tbody>\n",
       "    <tr>\n",
       "      <th>0</th>\n",
       "      <td>HOBBIES_1_001_CA_1_evaluation</td>\n",
       "      <td>HOBBIES_1_001</td>\n",
       "      <td>HOBBIES_1</td>\n",
       "      <td>HOBBIES</td>\n",
       "      <td>CA_1</td>\n",
       "      <td>CA</td>\n",
       "      <td>d_1</td>\n",
       "      <td>0.0</td>\n",
       "      <td>2011-01-29</td>\n",
       "      <td>11101</td>\n",
       "      <td>nan</td>\n",
       "      <td>nan</td>\n",
       "      <td>nan</td>\n",
       "      <td>nan</td>\n",
       "      <td>0</td>\n",
       "      <td>0</td>\n",
       "      <td>0</td>\n",
       "    </tr>\n",
       "    <tr>\n",
       "      <th>30490</th>\n",
       "      <td>HOBBIES_1_001_CA_1_evaluation</td>\n",
       "      <td>HOBBIES_1_001</td>\n",
       "      <td>HOBBIES_1</td>\n",
       "      <td>HOBBIES</td>\n",
       "      <td>CA_1</td>\n",
       "      <td>CA</td>\n",
       "      <td>d_2</td>\n",
       "      <td>0.0</td>\n",
       "      <td>2011-01-30</td>\n",
       "      <td>11101</td>\n",
       "      <td>nan</td>\n",
       "      <td>nan</td>\n",
       "      <td>nan</td>\n",
       "      <td>nan</td>\n",
       "      <td>0</td>\n",
       "      <td>0</td>\n",
       "      <td>0</td>\n",
       "    </tr>\n",
       "    <tr>\n",
       "      <th>60980</th>\n",
       "      <td>HOBBIES_1_001_CA_1_evaluation</td>\n",
       "      <td>HOBBIES_1_001</td>\n",
       "      <td>HOBBIES_1</td>\n",
       "      <td>HOBBIES</td>\n",
       "      <td>CA_1</td>\n",
       "      <td>CA</td>\n",
       "      <td>d_3</td>\n",
       "      <td>0.0</td>\n",
       "      <td>2011-01-31</td>\n",
       "      <td>11101</td>\n",
       "      <td>nan</td>\n",
       "      <td>nan</td>\n",
       "      <td>nan</td>\n",
       "      <td>nan</td>\n",
       "      <td>0</td>\n",
       "      <td>0</td>\n",
       "      <td>0</td>\n",
       "    </tr>\n",
       "  </tbody>\n",
       "</table>\n",
       "</div>"
      ],
      "text/plain": [
       "                                  id        item_id    dept_id   cat_id  \\\n",
       "0      HOBBIES_1_001_CA_1_evaluation  HOBBIES_1_001  HOBBIES_1  HOBBIES   \n",
       "30490  HOBBIES_1_001_CA_1_evaluation  HOBBIES_1_001  HOBBIES_1  HOBBIES   \n",
       "60980  HOBBIES_1_001_CA_1_evaluation  HOBBIES_1_001  HOBBIES_1  HOBBIES   \n",
       "\n",
       "      store_id state_id    d    y       date  wm_yr_wk event_name_1  \\\n",
       "0         CA_1       CA  d_1  0.0 2011-01-29     11101          nan   \n",
       "30490     CA_1       CA  d_2  0.0 2011-01-30     11101          nan   \n",
       "60980     CA_1       CA  d_3  0.0 2011-01-31     11101          nan   \n",
       "\n",
       "      event_type_1 event_name_2 event_type_2  snap_CA  snap_TX  snap_WI  \n",
       "0              nan          nan          nan        0        0        0  \n",
       "30490          nan          nan          nan        0        0        0  \n",
       "60980          nan          nan          nan        0        0        0  "
      ]
     },
     "execution_count": 26,
     "metadata": {},
     "output_type": "execute_result"
    }
   ],
   "source": [
    "# show informativo\n",
    "df_sales_long.head(3)"
   ]
  },
  {
   "cell_type": "code",
   "execution_count": 27,
   "id": "14da869e-ab23-4f06-85b8-0c311f7683a3",
   "metadata": {},
   "outputs": [
    {
     "data": {
      "text/plain": [
       "id              0\n",
       "item_id         0\n",
       "dept_id         0\n",
       "cat_id          0\n",
       "store_id        0\n",
       "state_id        0\n",
       "d               0\n",
       "y               0\n",
       "date            0\n",
       "wm_yr_wk        0\n",
       "event_name_1    0\n",
       "event_type_1    0\n",
       "event_name_2    0\n",
       "event_type_2    0\n",
       "snap_CA         0\n",
       "snap_TX         0\n",
       "snap_WI         0\n",
       "dtype: int64"
      ]
     },
     "execution_count": 27,
     "metadata": {},
     "output_type": "execute_result"
    }
   ],
   "source": [
    "# show informativo nulos datos\n",
    "df_sales_long.isnull().sum()"
   ]
  },
  {
   "cell_type": "code",
   "execution_count": 28,
   "id": "5f1a15c2-fa3d-4af5-894d-00a23e4562e4",
   "metadata": {},
   "outputs": [
    {
     "data": {
      "text/plain": [
       "0              d_1\n",
       "30490          d_2\n",
       "60980          d_3\n",
       "91470          d_4\n",
       "121960         d_5\n",
       "             ...  \n",
       "59059129    d_1937\n",
       "59089619    d_1938\n",
       "59120109    d_1939\n",
       "59150599    d_1940\n",
       "59181089    d_1941\n",
       "Name: d, Length: 59181090, dtype: category\n",
       "Categories (1969, object): ['d_1', 'd_10', 'd_100', 'd_1000', ..., 'd_996', 'd_997', 'd_998', 'd_999']"
      ]
     },
     "execution_count": 28,
     "metadata": {},
     "output_type": "execute_result"
    }
   ],
   "source": [
    "# show informativo fecha maxima de dia -> d_1941\n",
    "df_sales_long['d']#.as_ordered()"
   ]
  },
  {
   "cell_type": "code",
   "execution_count": null,
   "id": "53629113-7996-4242-ad10-b5e8dc5627d3",
   "metadata": {},
   "outputs": [],
   "source": []
  },
  {
   "cell_type": "markdown",
   "id": "a9c0d7a1-123d-4d93-a351-6f83a9b85ee1",
   "metadata": {},
   "source": [
    "### 4. Transformaciones"
   ]
  },
  {
   "cell_type": "code",
   "execution_count": 31,
   "id": "9fb7f85b-b0f3-447d-a3f4-223dd085a608",
   "metadata": {},
   "outputs": [],
   "source": [
    "without_leading_zeros = df_sales_long['y'].gt(0).groupby(df_sales_long['id'], observed=True).transform('cummax')"
   ]
  },
  {
   "cell_type": "code",
   "execution_count": 37,
   "id": "133bcc1c-a71d-45f0-90c1-f409a9fb05a7",
   "metadata": {},
   "outputs": [
    {
     "data": {
      "text/plain": [
       "0           0.0\n",
       "30490       0.0\n",
       "60980       0.0\n",
       "91470       0.0\n",
       "121960      0.0\n",
       "           ... \n",
       "59059129    0.0\n",
       "59089619    2.0\n",
       "59120109    2.0\n",
       "59150599    5.0\n",
       "59181089    1.0\n",
       "Name: y, Length: 59181090, dtype: float32"
      ]
     },
     "execution_count": 37,
     "metadata": {},
     "output_type": "execute_result"
    }
   ],
   "source": [
    "df_sales_long['y']"
   ]
  },
  {
   "cell_type": "code",
   "execution_count": 36,
   "id": "c967f41c-0812-40a9-b054-99ad71b198f6",
   "metadata": {},
   "outputs": [
    {
     "data": {
      "text/plain": [
       "0           False\n",
       "30490       False\n",
       "60980       False\n",
       "91470       False\n",
       "121960      False\n",
       "            ...  \n",
       "59059129    False\n",
       "59089619     True\n",
       "59120109     True\n",
       "59150599     True\n",
       "59181089     True\n",
       "Name: y, Length: 59181090, dtype: bool"
      ]
     },
     "execution_count": 36,
     "metadata": {},
     "output_type": "execute_result"
    }
   ],
   "source": [
    "df_sales_long['y'].gt(0)"
   ]
  },
  {
   "cell_type": "code",
   "execution_count": null,
   "id": "f34432d3-a2ba-45c8-826c-2a1b512c24b3",
   "metadata": {},
   "outputs": [],
   "source": [
    "\n",
    "\n",
    "\n",
    "\n",
    "\n",
    "\n",
    "\n",
    "above_min_date = long['date'] >= dates[-400]\n",
    "keep_mask = without_leading_zeros & above_min_date\n",
    "long = long[keep_mask]\n",
    "\n",
    "print(long.shape[0])"
   ]
  },
  {
   "cell_type": "code",
   "execution_count": null,
   "id": "edc12b54-bd9c-4967-be81-0304112cb343",
   "metadata": {},
   "outputs": [],
   "source": []
  },
  {
   "cell_type": "code",
   "execution_count": null,
   "id": "ca4eef70-cc45-42a6-ad6f-7885f32acdb1",
   "metadata": {},
   "outputs": [],
   "source": []
  },
  {
   "cell_type": "code",
   "execution_count": null,
   "id": "c46617c6-44f7-496b-b711-50d995078bdb",
   "metadata": {},
   "outputs": [],
   "source": []
  },
  {
   "cell_type": "code",
   "execution_count": null,
   "id": "52ad02fd-9d07-44dc-bc86-0860b2bf886f",
   "metadata": {},
   "outputs": [],
   "source": []
  },
  {
   "cell_type": "code",
   "execution_count": null,
   "id": "c629ac35-fcfc-4901-aad4-8f2d29d77fe6",
   "metadata": {},
   "outputs": [],
   "source": []
  },
  {
   "cell_type": "code",
   "execution_count": null,
   "id": "a329db78-7d98-4cb9-a2a5-84194333c4aa",
   "metadata": {},
   "outputs": [],
   "source": []
  }
 ],
 "metadata": {
  "kernelspec": {
   "display_name": "Python 3 (ipykernel)",
   "language": "python",
   "name": "python3"
  },
  "language_info": {
   "codemirror_mode": {
    "name": "ipython",
    "version": 3
   },
   "file_extension": ".py",
   "mimetype": "text/x-python",
   "name": "python",
   "nbconvert_exporter": "python",
   "pygments_lexer": "ipython3",
   "version": "3.11.7"
  }
 },
 "nbformat": 4,
 "nbformat_minor": 5
}
